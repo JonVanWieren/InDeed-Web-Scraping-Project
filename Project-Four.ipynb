{
 "cells": [
  {
   "cell_type": "code",
   "execution_count": 3,
   "metadata": {
    "collapsed": false
   },
   "outputs": [],
   "source": [
    "# Import the modules needed for this project.\n",
    "import bs4\n",
    "import matplotlib.pyplot as plt\n",
    "import numpy as np\n",
    "import pandas as pd\n",
    "import requests\n",
    "import seaborn as sns\n",
    "from time import sleep\n",
    "from bs4 import BeautifulSoup\n",
    "%matplotlib inline"
   ]
  },
  {
   "cell_type": "code",
   "execution_count": 3,
   "metadata": {
    "collapsed": false
   },
   "outputs": [],
   "source": [
    "#I will search for job titles chosen from the article \"The Best Data Jobs in 2017\" from data-informed.com:\n",
    "jobs = ['statistician', 'market+analyst', 'information+security_analyst', 'database+administrator',\n",
    "        'analytics+manager', 'data+scientist', 'data+science']"
   ]
  },
  {
   "cell_type": "code",
   "execution_count": 4,
   "metadata": {
    "collapsed": true
   },
   "outputs": [],
   "source": [
    "# I will search in cities chosen from the article \"The 20 Best Cities In The U.S. And Canada For Tech Workers In 2016\"\n",
    "# from Forbes.com:\n",
    "cities = ['Atlanta,+GA', 'Newark,+NJ', 'Denver,+CO', 'Detroit,+MI', 'San+Diego,+CA', 'Minneapolis,+MN',\n",
    "          'Orange+County,+CA', 'Chicago,+IL', 'Phoenix,+AZ', 'Baltimore,+MD', 'Raleigh-Durham,+NC', 'Boston,+MA',\n",
    "          'Dallas-Fort+Worth,+TX', 'Austin,+TX', 'New+York,+NY', 'Seattle,+WA', 'Washington,+DC', 'San+Francisco,+CA']"
   ]
  },
  {
   "cell_type": "code",
   "execution_count": 4,
   "metadata": {
    "collapsed": true
   },
   "outputs": [],
   "source": [
    "# Set up database where results will be added:\n",
    "columns = ['location', 'company', 'job', 'salary']\n",
    "df = pd.DataFrame(columns=columns)"
   ]
  },
  {
   "cell_type": "code",
   "execution_count": 5,
   "metadata": {
    "collapsed": false
   },
   "outputs": [],
   "source": [
    "# Iterate through jobs, cities, and pages on Indeed, after adjusting number of jobs per page to 50, to speed up search.\n",
    "# Add results of each iteration to a list.\n",
    "\n",
    "rawsoup = []\n",
    "for job in jobs:\n",
    "    for city in cities:\n",
    "        for start in range(0,301,50):\n",
    "            url = \"https://www.indeed.com/jobs?q=\"+job+\"&limit=50&l=\"+city+\"&start=\"+str(start)\n",
    "            response = requests.get(url)\n",
    "            html = response.text\n",
    "            soup = BeautifulSoup(html,'lxml')\n",
    "            for posting in soup.find_all('div', attrs={'class':' row result'}):\n",
    "                rawsoup.append(posting)\n",
    "            sleep(1)"
   ]
  },
  {
   "cell_type": "code",
   "execution_count": 6,
   "metadata": {
    "collapsed": true
   },
   "outputs": [],
   "source": [
    "# Iterate through list of rawsoup, add location, company, job and salary to database:\n",
    "for i in rawsoup:\n",
    "    try:\n",
    "        loc = i.find('span', attrs={'class':'location'}).text\n",
    "    except:\n",
    "        loc = 'NA'\n",
    "    try:\n",
    "        com = i.find('span', attrs={'class':'company'}).text.strip()\n",
    "    except:\n",
    "        com = 'NA'\n",
    "    try:\n",
    "        pos = i.find('a', attrs={'data-tn-element':'jobTitle'}).text\n",
    "    except:\n",
    "        pos = 'NA'\n",
    "    try:\n",
    "        sal = i.find('span', attrs={'class':'no-wrap'}).text\n",
    "    except:\n",
    "        sal = 'NA'\n",
    "    df = df.append({'location':loc, 'company':com, 'job':pos, 'salary':sal}, ignore_index=True)"
   ]
  },
  {
   "cell_type": "code",
   "execution_count": 7,
   "metadata": {
    "collapsed": false
   },
   "outputs": [
    {
     "data": {
      "text/html": [
       "<div>\n",
       "<table border=\"1\" class=\"dataframe\">\n",
       "  <thead>\n",
       "    <tr style=\"text-align: right;\">\n",
       "      <th></th>\n",
       "      <th>location</th>\n",
       "      <th>company</th>\n",
       "      <th>job</th>\n",
       "      <th>salary</th>\n",
       "    </tr>\n",
       "  </thead>\n",
       "  <tbody>\n",
       "    <tr>\n",
       "      <th>0</th>\n",
       "      <td>Atlanta, GA</td>\n",
       "      <td>ICF</td>\n",
       "      <td>Scientific Data Analyst</td>\n",
       "      <td>NA</td>\n",
       "    </tr>\n",
       "    <tr>\n",
       "      <th>1</th>\n",
       "      <td>Atlanta, GA</td>\n",
       "      <td>The Hexagon Lavish</td>\n",
       "      <td>Data Scientist I</td>\n",
       "      <td>NA</td>\n",
       "    </tr>\n",
       "    <tr>\n",
       "      <th>2</th>\n",
       "      <td>Atlanta, GA 30329</td>\n",
       "      <td>SciMetrika</td>\n",
       "      <td>Statistician</td>\n",
       "      <td>NA</td>\n",
       "    </tr>\n",
       "    <tr>\n",
       "      <th>3</th>\n",
       "      <td>Atlanta, GA</td>\n",
       "      <td>Equifax</td>\n",
       "      <td>Statistician - Risk Analytics</td>\n",
       "      <td>NA</td>\n",
       "    </tr>\n",
       "    <tr>\n",
       "      <th>4</th>\n",
       "      <td>Atlanta, GA</td>\n",
       "      <td>Northrop Grumman</td>\n",
       "      <td>Health Research Analyst</td>\n",
       "      <td>NA</td>\n",
       "    </tr>\n",
       "  </tbody>\n",
       "</table>\n",
       "</div>"
      ],
      "text/plain": [
       "            location             company                            job salary\n",
       "0        Atlanta, GA                 ICF        Scientific Data Analyst     NA\n",
       "1        Atlanta, GA  The Hexagon Lavish               Data Scientist I     NA\n",
       "2  Atlanta, GA 30329          SciMetrika                   Statistician     NA\n",
       "3        Atlanta, GA             Equifax  Statistician - Risk Analytics     NA\n",
       "4        Atlanta, GA    Northrop Grumman        Health Research Analyst     NA"
      ]
     },
     "execution_count": 7,
     "metadata": {},
     "output_type": "execute_result"
    }
   ],
   "source": [
    "df.head()"
   ]
  },
  {
   "cell_type": "code",
   "execution_count": 8,
   "metadata": {
    "collapsed": false
   },
   "outputs": [
    {
     "data": {
      "text/plain": [
       "(38124, 4)"
      ]
     },
     "execution_count": 8,
     "metadata": {},
     "output_type": "execute_result"
    }
   ],
   "source": [
    "df.shape"
   ]
  },
  {
   "cell_type": "code",
   "execution_count": 9,
   "metadata": {
    "collapsed": false
   },
   "outputs": [
    {
     "data": {
      "text/html": [
       "<div>\n",
       "<table border=\"1\" class=\"dataframe\">\n",
       "  <thead>\n",
       "    <tr style=\"text-align: right;\">\n",
       "      <th></th>\n",
       "      <th>location</th>\n",
       "      <th>company</th>\n",
       "      <th>job</th>\n",
       "      <th>salary</th>\n",
       "    </tr>\n",
       "  </thead>\n",
       "  <tbody>\n",
       "    <tr>\n",
       "      <th>count</th>\n",
       "      <td>38124</td>\n",
       "      <td>38124</td>\n",
       "      <td>38124</td>\n",
       "      <td>38124</td>\n",
       "    </tr>\n",
       "    <tr>\n",
       "      <th>unique</th>\n",
       "      <td>1642</td>\n",
       "      <td>8269</td>\n",
       "      <td>16546</td>\n",
       "      <td>991</td>\n",
       "    </tr>\n",
       "    <tr>\n",
       "      <th>top</th>\n",
       "      <td>New York, NY</td>\n",
       "      <td>Amazon Corporate LLC</td>\n",
       "      <td>Data Scientist</td>\n",
       "      <td>NA</td>\n",
       "    </tr>\n",
       "    <tr>\n",
       "      <th>freq</th>\n",
       "      <td>1897</td>\n",
       "      <td>550</td>\n",
       "      <td>783</td>\n",
       "      <td>34848</td>\n",
       "    </tr>\n",
       "  </tbody>\n",
       "</table>\n",
       "</div>"
      ],
      "text/plain": [
       "            location               company             job salary\n",
       "count          38124                 38124           38124  38124\n",
       "unique          1642                  8269           16546    991\n",
       "top     New York, NY  Amazon Corporate LLC  Data Scientist     NA\n",
       "freq            1897                   550             783  34848"
      ]
     },
     "execution_count": 9,
     "metadata": {},
     "output_type": "execute_result"
    }
   ],
   "source": [
    "df.describe()"
   ]
  },
  {
   "cell_type": "code",
   "execution_count": 10,
   "metadata": {
    "collapsed": false
   },
   "outputs": [
    {
     "data": {
      "text/plain": [
       "array(['NA', u'$90,000 - $120,000 a year', u'$134,800 a year',\n",
       "       u'$75,000 a year', u'$70 an hour', u'$42,288 - $63,519 a year',\n",
       "       u'$60 - $90 an hour', u'$110,000 - $135,000 a year', u'$80 an hour',\n",
       "       u'$100,000 - $140,000 a year', u'$105,000 - $125,000 a year',\n",
       "       u'$140,000 - $160,000 a year', u'$70,286 - $80,829 a year',\n",
       "       u'$75,000 - $100,000 a year', u'$138,000 a year',\n",
       "       u'$80,000 - $95,000 a year', u'$160,000 a year',\n",
       "       u'$85,000 - $130,000 a year', u'$75 an hour', u'$65 an hour',\n",
       "       u'$36,557 - $47,063 a year', u'$55,000 - $68,721 a year',\n",
       "       u'$15.47 - $21.26 an hour', u'$37,040 - $50,932 a year',\n",
       "       u'$68,586 - $85,464 a year', u'$85 - $100 an hour',\n",
       "       u'$70 - $100 an hour', u'$100,000 - $150,000 a year',\n",
       "       u'$105,000 - $130,000 a year', u'$100,000 - $110,000 a year',\n",
       "       u'$65 - $75 an hour', u'$150,000 a year', u'$120,000 a year',\n",
       "       u'$100,000 a year', u'$90,000 a year', u'$70,000 - $80,000 a year',\n",
       "       u'$50,000 a year', u'$21.03 - $25.09 an hour',\n",
       "       u'$39,747 - $61,607 a year', u'$40,000 a year', u'$110,000 a year',\n",
       "       u'$25.65 - $29.70 an hour', u'$200,000 a year',\n",
       "       u'$50,000 - $52,000 a year', u'$115,000 - $120,000 a year',\n",
       "       u'$55 - $60 an hour', u'$30,000 - $32,000 a year',\n",
       "       u'$35.70 an hour', u'$45 - $52 an hour',\n",
       "       u'$60,000 - $90,000 a year', u'$35 - $39 an hour',\n",
       "       u'$40 - $43 an hour', u'$30 - $38 an hour',\n",
       "       u'$65,000 - $85,000 a year', u'$50 - $60 an hour',\n",
       "       u'$240,000 a year', u'$60,000 - $65,000 a year',\n",
       "       u'$80,000 - $90,000 a year', u'$124,592 a year', u'$29.19 an hour',\n",
       "       u'$70,286 - $82,000 a year', u'$42,500 - $50,000 a year',\n",
       "       u'$50,000 - $70,000 a year', u'$70,000 - $100,000 a year',\n",
       "       u'$125,000 - $170,000 a year', u'$65,000 a year', u'$50 an hour',\n",
       "       u'$27.36 an hour', u'$60,000 a year', u'$73,000 - $83,000 a year',\n",
       "       u'$82,805 a year', u'$80,000 a year', u'$70,000 - $110,000 a year',\n",
       "       u'$25 - $32 an hour', u'$12 - $14 an hour',\n",
       "       u'$54,325 - $81,488 a year', u'$70,000 - $85,000 a year',\n",
       "       u'$50,000 - $80,000 a year', u'$70,000 - $87,000 a year',\n",
       "       u'$85,000 a year', u'$37,000 - $60,100 a year',\n",
       "       u'$16 - $20 an hour', u'$65,000 - $80,000 a year',\n",
       "       u'$90,000 - $103,000 a year', u'$25 - $35 an hour', u'$25 an hour',\n",
       "       u'$55 - $58 an hour', u'$80,000 - $100,000 a year',\n",
       "       u'$40 - $50 an hour', u'$45 - $50 an hour',\n",
       "       u'$80,000 - $110,000 a year', u'$20 - $35 an hour',\n",
       "       u'$28 - $38 an hour', u'$65,000 - $75,000 a year',\n",
       "       u'$75,000 - $85,000 a year', u'$35,000 - $55,000 a year',\n",
       "       u'$15 an hour', u'$91,062 a year', u'$111,353 - $122,333 a year',\n",
       "       u'$11 an hour', u'$70,000 a year', u'$95,000 a year',\n",
       "       u'$84,200 - $151,500 a year', u'$13 - $16 an hour',\n",
       "       u'$60,000 - $85,000 a year', u'$110,000 - $125,000 a year',\n",
       "       u'$50,000 - $75,000 a year', u'$90,000 - $100,000 a year',\n",
       "       u'$76,652 a year', u'$45,000 - $55,000 a year',\n",
       "       u'$55 - $65 an hour', u'$45,000 a year', u'$13 - $15 an hour',\n",
       "       u'$40 an hour', u'$50,000 - $60,000 a year', u'$21 - $22 an hour',\n",
       "       u'$22 an hour', u'$19 an hour', u'$115,000 a year',\n",
       "       u'$60,000 - $80,000 a year', u'$15.95 an hour',\n",
       "       u'$47,500 - $52,000 a year', u'$110,000 - $115,000 a year',\n",
       "       u'$80,000 - $120,000 a year', u'$38 an hour', u'$30 an hour',\n",
       "       u'$44,017 - $70,265 a year', u'$48,251 - $66,407 a year',\n",
       "       u'$56,416 - $77,497 a year', u'$106,240 - $114,671 a year',\n",
       "       u'$40 - $45 an hour', u'$90,000 - $115,000 a year',\n",
       "       u'$68,170 - $102,255 a year', u'$56,339 - $84,508 a year',\n",
       "       u'$46,561 - $69,841 a year', u'$30,000 - $50,000 a year',\n",
       "       u'$32,473 - $81,000 a year', u'$40 - $55 an hour',\n",
       "       u'$22.50 an hour', u'$45 - $65 an hour', u'$40 - $57 an hour',\n",
       "       u'$60,000 - $75,000 a year', u'$40 - $47 an hour',\n",
       "       u'$40 - $42 an hour', u'$120,000 - $130,000 a year',\n",
       "       u'$125,000 a year', u'$53 - $57 an hour', u'$30 - $32 an hour',\n",
       "       u'$30 - $33 an hour', u'$100,000 - $120,000 a year', u'$55 an hour',\n",
       "       u'$90,000 - $95,000 a year', u'$130,000 a year',\n",
       "       u'$180,000 - $200,000 a year', u'$37,000 - $40,000 a year',\n",
       "       u'$32 - $35 an hour', u'$110 - $115 an hour', u'$25 - $55 an hour',\n",
       "       u'$180,000 a year', u'$43,590 - $104,454 a year',\n",
       "       u'$50 - $55 an hour', u'$65 - $73 an hour', u'$60 an hour',\n",
       "       u'$60 - $65 an hour', u'$35 - $42 an hour', u'$65 - $70 an hour',\n",
       "       u'$45 an hour', u'$105,000 a year', u'$135,000 a year',\n",
       "       u'$51 - $55 an hour', u'$130,000 - $150,000 a year',\n",
       "       u'$35,000 - $45,000 a year', u'$73,301 - $91,600 a year',\n",
       "       u'$47,860 - $67,712 a year', u'$17 - $18 an hour',\n",
       "       u'$73,300 - $114,900 a year', u'$73,300 - $91,600 a year',\n",
       "       u'$90,300 - $144,500 a year', u'$115,000 - $145,000 a year',\n",
       "       u'$90,300 - $114,600 a year', u'$90,301 - $114,900 a year',\n",
       "       u'$75,000 - $80,000 a year', u'$103,300 - $144,500 a year',\n",
       "       u'$90,300 - $114,900 a year', u'$125,200 - $163,900 a year',\n",
       "       u'$73,300 - $102,600 a year', u'$60,096 - $87,045 a year',\n",
       "       u'$35,000 a year', u'$50,000 - $65,000 a year', u'$30,000 a year',\n",
       "       u'$10 - $15 an hour', u'$35 - $40 an hour', u'$16 - $18 an hour',\n",
       "       u'$77,000 - $99,000 a year', u'$24.65 an hour',\n",
       "       u'$55,000 - $70,000 a year', u'$90,000 - $110,000 a year',\n",
       "       u'$85,000 - $110,000 a year', u'$40,000 - $60,000 a year',\n",
       "       u'$15 - $25 an hour', u'$7,000 - $11,750 a month',\n",
       "       u'$3,293 a month', u'$3,167 - $3,766 a month', u'$3,763 a month',\n",
       "       u'$85,000 - $100,000 a year', u'$1,000 - $2,000 a month',\n",
       "       u'$15 - $17 an hour', u'$66,300 - $128,800 a year',\n",
       "       u'$60,027 a year', u'$71,406 - $90,522 a year',\n",
       "       u'$95,000 - $125,000 a year', u'$36,000 - $40,000 a year',\n",
       "       u'$74,000 - $81,000 a year', u'$100,400 - $144,500 a year',\n",
       "       u'$90,300 - $128,800 a year', u'$78,520 - $99,528 a year',\n",
       "       u'$67 an hour', u'$60,613 - $123,234 a year',\n",
       "       u'$75,000 - $90,000 a year', u'$53,300 a year', u'$55,000 a year',\n",
       "       u'$84,084 - $105,742 a year', u'$40.21 - $48.88 an hour',\n",
       "       u'$25 - $27 an hour', u'$26 - $30 an hour',\n",
       "       u'$58,100 - $76,500 a year', u'$55,000 - $75,000 a year',\n",
       "       u'$64,000 a year', u'$56,000 a year', u'$76,288 - $95,077 a year',\n",
       "       u'$150,000 - $160,000 a year', u'$5,230 - $6,800 a month',\n",
       "       u'$35 an hour', u'$52 an hour', u'$21.94 - $35.66 an hour',\n",
       "       u'$45,810 - $74,458 a year', u'$28 an hour', u'$12.25 an hour',\n",
       "       u'$25.82 - $38.74 an hour', u'$64 an hour',\n",
       "       u'$40,000 - $50,000 a year', u'$29 an hour', u'$50 - $64 an hour',\n",
       "       u'$90,000 - $105,000 a year', u'$66.50 an hour',\n",
       "       u'$25 - $45 an hour', u'$30 - $45 an hour',\n",
       "       u'$5,259 - $8,624 a month', u'$6,363 - $10,761 a month',\n",
       "       u'$95,753 a year', u'$100 an hour', u'$79,567 a year',\n",
       "       u'$65,000 - $90,000 a year', u'$140,000 a year', u'$53,200 a year',\n",
       "       u'$58,800 - $98,000 a year', u'$121,100 a year',\n",
       "       u'$62,262 - $82,497 a year', u'$86,400 a year',\n",
       "       u'$53,312 - $82,634 a year', u'$70,000 - $120,000 a year',\n",
       "       u'$71,323 a year', u'$60 a day', u'$85,000 - $95,000 a year',\n",
       "       u'$108,300 a year', u'$96,900 a year', u'$17 an hour',\n",
       "       u'$62,000 - $78,000 a year', u'$77,600 a year',\n",
       "       u'$45,321 - $85,000 a year', u'$40 - $48 an hour',\n",
       "       u'$64,100 a year', u'$50 - $55 a day',\n",
       "       u'$120,000 - $127,000 a year', u'$33,768 a year',\n",
       "       u'$45,198 - $90,237 a year', u'$45 - $51 an hour',\n",
       "       u'$85,841 a year', u'$54,643 - $125,000 a year',\n",
       "       u'$60,000 - $70,000 a year', u'$84,950 a year',\n",
       "       u'$35,000 - $40,000 a year', u'$54,643 - $102,319 a year',\n",
       "       u'$79,472 a year', u'$88,000 - $110,000 a year',\n",
       "       u'$54,000 - $59,000 a year', u'$71,723 - $84,678 a year',\n",
       "       u'$55 a day', u'$83,323 - $110,000 a year',\n",
       "       u'$70,000 - $95,000 a year', u'$115,000 - $130,000 a year',\n",
       "       u'$77,157 - $108,348 a year', u'$75,000 - $81,000 a year',\n",
       "       u'$63,074 - $91,347 a year', u'$3,500 a month',\n",
       "       u'$54,643 - $110,000 a year', u'$100 - $110 an hour',\n",
       "       u'$135,000 - $175,000 a year', u'$165,000 a year',\n",
       "       u'$64,807 - $90,202 a year', u'$47,500 a year', u'$50,231 a year',\n",
       "       u'$54,643 - $150,371 a year', u'$106,500 - $138,000 a year',\n",
       "       u'$97,850 a year', u'$45,000 - $57,000 a year',\n",
       "       u'$87,825 - $140,520 a year', u'$62,538 - $100,061 a year',\n",
       "       u'$72,000 - $90,000 a year', u'$19.08 - $22.90 an hour',\n",
       "       u'$33,000 a year', u'$36.25 - $47.94 an hour',\n",
       "       u'$95,000 - $115,000 a year', u'$40,608 - $45,000 a year',\n",
       "       u'$19.09 - $23.12 an hour', u'$44,792 - $52,696 a year',\n",
       "       u'$41,374 - $45,000 a year', u'$74,791 - $104,707 a year',\n",
       "       u'$76,965 - $123,144 a year', u'$65 a day',\n",
       "       u'$82,000 - $88,000 a year', u'$9.50 an hour',\n",
       "       u'$40,000 - $45,000 a year', u'$81,910 a year', u'$50 a day',\n",
       "       u'$14 - $16 an hour', u'$100,000 - $300,000 a year', u'$16 an hour',\n",
       "       u'$13 - $14 an hour', u'$37 an hour', u'$18.64 - $20.44 an hour',\n",
       "       u'$3,703 a month', u'$47,700 - $60,000 a year',\n",
       "       u'$20,000 - $23,000 a year', u'$11 - $13 an hour',\n",
       "       u'$4,420 - $5,377 a month', u'$13.50 - $15.00 an hour',\n",
       "       u'$31 - $37 an hour', u'$2,846 - $4,619 a month', u'$95 an hour',\n",
       "       u'$14.33 an hour', u'$3,399 - $5,425 a month',\n",
       "       u'$5,606 - $6,820 a month', u'$14 an hour', u'$60 - $80 an hour',\n",
       "       u'$4,372 - $9,683 a month', u'$28.84 - $47.58 an hour',\n",
       "       u'$55,000 - $65,000 a year', u'$16.80 - $28.25 an hour',\n",
       "       u'$24.24 - $37.54 an hour', u'$41,621 - $51,813 a year',\n",
       "       u'$28.26 - $43.78 an hour', u'$36 - $52 an hour', u'$20.16 an hour',\n",
       "       u'$57 - $69 an hour', u'$38.10 - $47.33 an hour', u'$64.75 an hour',\n",
       "       u'$70 - $85 an hour', u'$15 - $20 an hour',\n",
       "       u'$4,040 - $5,312 a month', u'$4,240 - $5,139 a month',\n",
       "       u'$40 - $60 an hour', u'$4,235 - $5,573 a month',\n",
       "       u'$3,897 - $6,326 a month', u'$12 - $16 an hour',\n",
       "       u'$105,000 - $115,000 a year', u'$120,000 - $135,000 a year',\n",
       "       u'$37,383 - $47,142 a year', u'$40 - $65 an hour',\n",
       "       u'$79,760 - $100,922 a year', u'$10 - $12 an hour',\n",
       "       u'$22.95 - $30.18 an hour', u'$9,346 - $10,627 a month',\n",
       "       u'$103,000 a year', u'$31,200 - $39,520 a year',\n",
       "       u'$53.58 - $61.36 an hour', u'$100,000 - $130,000 a year',\n",
       "       u'$12 an hour', u'$55,020 - $66,948 a year',\n",
       "       u'$110,000 - $120,000 a year', u'$17.97 an hour',\n",
       "       u'$20 - $22 an hour', u'$44,076 - $53,736 a year',\n",
       "       u'$4,448 - $5,678 a month', u'$50,000 - $100,000 a year',\n",
       "       u'$85,000 - $90,000 a year', u'$100,656 a year', u'$89,328 a year',\n",
       "       u'$60 - $70 an hour', u'$14 - $18 an hour',\n",
       "       u'$78,000 - $106,000 a year', u'$69,243 a year',\n",
       "       u'$17 - $25 an hour', u'$16 - $17 an hour',\n",
       "       u'$13.63 - $15.41 an hour', u'$15 - $18 an hour',\n",
       "       u'$95,014 - $120,994 a year', u'$64,575 - $69,500 a year',\n",
       "       u'$18.15 - $22.60 an hour', u'$16.46 - $19.36 an hour',\n",
       "       u'$4,500 - $5,500 a month', u'$44,500 a year',\n",
       "       u'$38,160 - $50,000 a year', u'$12.83 an hour',\n",
       "       u'$71,906 - $115,045 a year', u'$55,723 - $83,595 a year',\n",
       "       u'$12.12 - $12.48 an hour', u'$30,000 - $35,000 a year',\n",
       "       u'$49,899 - $80,078 a year', u'$59,374 - $100,046 a year',\n",
       "       u'$45,000 - $65,000 a year', u'$125,000 - $165,000 a year',\n",
       "       u'$11.72 - $16.11 an hour', u'$15.76 - $20.11 an hour',\n",
       "       u'$22.47 - $29.16 an hour', u'$16.58 - $22.80 an hour',\n",
       "       u'$31,546 - $43,352 a year', u'$59,179 - $73,974 a year',\n",
       "       u'$41,427 - $56,903 a year', u'$36,777 - $50,603 a year',\n",
       "       u'$46,857 - $60,815 a year', u'$46,084 - $57,605 a year',\n",
       "       u'$35,000 - $42,000 a year', u'$80,000 - $115,000 a year',\n",
       "       u'$29,826 - $45,099 a year', u'$47,350 - $98,300 a year',\n",
       "       u'$47,125 - $86,223 a year', u'$105,000 - $120,000 a year',\n",
       "       u'$30,000 - $42,000 a year', u'$18 - $22 an hour',\n",
       "       u'$100,000 - $125,000 a year', u'$45,000 - $52,000 a year',\n",
       "       u'$65,965 - $123,829 a year', u'$70,138 - $103,805 a year',\n",
       "       u'$18 an hour', u'$120,000 - $150,000 a year',\n",
       "       u'$45,000 - $50,000 a year', u'$18.11 - $23.83 an hour',\n",
       "       u'$48,478 - $131,895 a year', u'$25,000 - $35,000 a year',\n",
       "       u'$49.80 an hour', u'$17.25 an hour', u'$80,000 - $85,000 a year',\n",
       "       u'$35 - $45 an hour', u'$10 - $13 an hour', u'$46,000 a year',\n",
       "       u'$45,000 - $60,000 a year', u'$108,000 a year',\n",
       "       u'$24,500 - $25,500 a year', u'$9 - $10 an hour',\n",
       "       u'$100,000 - $115,000 a year', u'$150,000 - $180,000 a year',\n",
       "       u'$22 - $25 an hour', u'$140,000 - $175,000 a year',\n",
       "       u'$23 - $27 an hour', u'$25,000 a year',\n",
       "       u'$50,000 - $55,000 a year', u'$14.25 - $16.50 an hour',\n",
       "       u'$120,000 - $145,000 a year', u'$155,000 a year',\n",
       "       u'$59,446 - $74,318 a year', u'$4,583 a month', u'$3,750 a month',\n",
       "       u'$5,785 - $9,783 a month', u'$36.27 - $58.00 an hour',\n",
       "       u'$34,320 - $37,939 a year', u'$45 - $60 an hour',\n",
       "       u'$5,000 a month', u'$4,917 - $6,489 a month', u'$6,250 a month',\n",
       "       u'$5,259 - $8,060 a month', u'$3,081 - $3,974 a month',\n",
       "       u'$20 an hour', u'$118,000 a year', u'$3,081 - $4,867 a month',\n",
       "       u'$130,000 - $160,000 a year', u'$6,000 a month',\n",
       "       u'$4,333 - $6,666 a month', u'$31,000 a year',\n",
       "       u'$80,000 - $102,819 a year', u'$30,000 - $40,000 a year',\n",
       "       u'$47,692 - $69,493 a year', u'$54,000 - $145,000 a year',\n",
       "       u'$53,051 - $132,000 a year', u'$89,383 - $115,000 a year',\n",
       "       u'$65,000 - $70,000 a year', u'$89,383 - $119,000 a year',\n",
       "       u'$76,288 - $95,580 a year', u'$31,200 a year',\n",
       "       u'$53,000 - $77,000 a year', u'$95,000 - $110,000 a year',\n",
       "       u'$32.42 - $39.40 an hour', u'$35,100 - $45,684 a year',\n",
       "       u'$19.14 - $21.29 an hour', u'$56.50 - $71.61 an hour',\n",
       "       u'$18 - $20 an hour', u'$38,000 - $40,000 a year',\n",
       "       u'$2,556 - $2,806 a month', u'$91,620 a year',\n",
       "       u'$65,000 - $72,000 a year', u'$24.13 an hour',\n",
       "       u'$21.50 - $24.00 an hour', u'$53,681 - $72,511 a year',\n",
       "       u'$27.03 - $33.79 an hour', u'$20.53 - $21.53 an hour',\n",
       "       u'$18 - $19 an hour', u'$38.01 - $42.39 a day',\n",
       "       u'$135,000 - $170,000 a year', u'$27 - $30 an hour',\n",
       "       u'$57,338 - $124,582 a year', u'$84,000 - $127,000 a year',\n",
       "       u'$44,000 - $50,000 a year', u'$48 an hour',\n",
       "       u'$43.72 - $54.65 an hour', u'$53.91 - $67.79 an hour',\n",
       "       u'$60,480 - $75,600 a year', u'$47.93 - $59.89 an hour',\n",
       "       u'$39.25 - $49.36 an hour', u'$8,791 - $10,687 a month',\n",
       "       u'$19 - $20 an hour', u'$7,329 - $8,999 a month',\n",
       "       u'$17 - $20 an hour', u'$4,372 a month',\n",
       "       u'$42,000 - $52,000 a year', u'$47.21 - $57.39 an hour',\n",
       "       u'$95,000 - $115,008 a year', u'$70,000 - $99,999 a year',\n",
       "       u'$34 an hour', u'$85 a day', u'$46,764 - $53,208 a year',\n",
       "       u'$70,600 a year', u'$38,000 - $43,000 a year', u'$77,000 a year',\n",
       "       u'$85,500 a year', u'$38,000 a year', u'$117,000 - $164,000 a year',\n",
       "       u'$200,000 - $300,000 a year', u'$54,643 - $85,000 a year',\n",
       "       u'$85,000 - $125,000 a year', u'$55,342 - $72,740 a year',\n",
       "       u'$91,000 - $106,000 a year', u'$115,000 - $125,000 a year',\n",
       "       u'$55,000 - $60,000 a year', u'$72,034 a year',\n",
       "       u'$5,000 - $7,000 a month', u'$4,117 - $4,166 a month',\n",
       "       u'$27 - $38 an hour', u'$39,000 - $45,000 a year',\n",
       "       u'$69,674 - $83,607 a year', u'$4,022 - $5,718 a month',\n",
       "       u'$6,315 - $8,166 a month', u'$70,000 - $90,000 a year',\n",
       "       u'$92,605 a year', u'$4,331 - $6,338 a month',\n",
       "       u'$5,000 - $7,083 a month', u'$25.06 - $41.35 an hour',\n",
       "       u'$6,314 - $7,419 a month', u'$2,864 - $3,984 a month',\n",
       "       u'$20 - $25 an hour', u'$23.38 - $28.06 an hour',\n",
       "       u'$113,017 a year', u'$67,300 - $106,700 a year',\n",
       "       u'$20 - $40 an hour', u'$65,536 - $81,395 a year',\n",
       "       u'$140,000 - $170,000 a year', u'$90,000 - $135,000 a year',\n",
       "       u'$16.35 an hour', u'$36,000 - $42,000 a year',\n",
       "       u'$90,000 - $130,000 a year', u'$17.50 an hour',\n",
       "       u'$140,000 - $180,000 a year', u'$38,000 - $42,000 a year',\n",
       "       u'$69,591 - $111,322 a year', u'$47,476 - $60,976 a year',\n",
       "       u'$36,004 - $44,990 a year', u'$65,000 - $100,000 a year',\n",
       "       u'$25.97 - $42.69 an hour', u'$75,000 - $95,000 a year',\n",
       "       u'$120,000 - $140,000 a year', u'$68 - $81 an hour',\n",
       "       u'$80,000 - $144,300 a year', u'$81,000 a year',\n",
       "       u'$95,000 - $100,000 a year', u'$98,000 a year',\n",
       "       u'$42,000 - $55,000 a year', u'$13 an hour',\n",
       "       u'$74,369 - $96,683 a year', u'$42,000 - $47,000 a year',\n",
       "       u'$34.45 an hour', u'$43,239 - $70,000 a year',\n",
       "       u'$4,000 - $6,000 a month', u'$4,500 - $6,000 a month',\n",
       "       u'$38,000 - $48,000 a year', u'$23.75 - $27.50 an hour',\n",
       "       u'$47,029 - $73,299 a year', u'$49,680 - $63,000 a year',\n",
       "       u'$66,227 - $105,955 a year', u'$58,000 - $68,000 a year',\n",
       "       u'$46,923 - $65,544 a year', u'$83,900 - $106,700 a year',\n",
       "       u'$70,000 - $130,000 a year', u'$13.50 an hour',\n",
       "       u'$76,763 - $105,518 a year', u'$100,279 - $137,930 a year',\n",
       "       u'$57,999 - $79,809 a year', u'$43,011 - $59,217 a year',\n",
       "       u'$30.00 - $34.50 an hour', u'$94,796 - $145,629 a year',\n",
       "       u'$66,510 - $103,639 a year', u'$44,941 - $71,467 a year',\n",
       "       u'$14 - $15 an hour', u'$44,347 - $104,089 a year',\n",
       "       u'$25 - $30 an hour', u'$40,000 - $55,000 a year',\n",
       "       u'$27.67 an hour', u'$50 - $65 an hour', u'$175,000 a year',\n",
       "       u'$30,000 - $65,000 a year', u'$15 - $22 an hour',\n",
       "       u'$141,000 - $185,400 a year', u'$40,000 - $44,000 a year',\n",
       "       u'$86,405 - $108,006 a year', u'$41,017 - $110,887 a year',\n",
       "       u'$63,111 - $90,989 a year', u'$35,248 - $95,078 a year',\n",
       "       u'$89,835 - $122,442 a year', u'$100,000 - $145,000 a year',\n",
       "       u'$82,000 - $104,300 a year', u'$135,000 - $165,000 a year',\n",
       "       u'$125,000 - $150,000 a year', u'$120,000 - $160,000 a year',\n",
       "       u'$160,000 - $200,000 a year', u'$2,916 a month',\n",
       "       u'$5,040 - $8,060 a month', u'$4,301 - $7,040 a month',\n",
       "       u'$4,023 - $6,579 a month', u'$5,785 - $8,167 a month',\n",
       "       u'$3,081 - $4,013 a month', u'$55 - $70 an hour',\n",
       "       u'$11 - $12 an hour', u'$170,000 a year',\n",
       "       u'$54,643 - $140,000 a year', u'$52,143 - $80,000 a year',\n",
       "       u'$31.31 - $36.58 an hour', u'$120,000 - $220,000 a year',\n",
       "       u'$34.33 - $43.52 an hour', u'$5,695 - $7,617 a month',\n",
       "       u'$50,400 - $74,000 a year', u'$37.26 - $43.38 an hour',\n",
       "       u'$150,000 - $275,000 a year', u'$7,130 - $8,621 a month',\n",
       "       u'$52,000 - $55,000 a year', u'$135,000 - $150,000 a year',\n",
       "       u'$95,000 - $105,000 a year', u'$110,000 - $149,000 a year',\n",
       "       u'$145,000 a year', u'$60,690 - $101,150 a year',\n",
       "       u'$66,829 - $110,664 a year', u'$52,000 - $58,000 a year',\n",
       "       u'$105,618 - $140,824 a year', u'$110,000 - $150,000 a year',\n",
       "       u'$87,867 - $117,156 a year', u'$61,600 - $91,600 a year',\n",
       "       u'$49,000 a year', u'$7,876 - $9,573 a month',\n",
       "       u'$80,000 - $105,000 a year', u'$72 an hour',\n",
       "       u'$50,000 - $59,999 a year', u'$63,161 - $82,106 a year',\n",
       "       u'$58,300 a year', u'$70,000 - $145,000 a year',\n",
       "       u'$75,000 - $115,000 a year', u'$51,706 a year',\n",
       "       u'$160,000 - $180,000 a year', u'$185,000 a year',\n",
       "       u'$42,000 a year', u'$68,000 a year', u'$120,000 - $180,000 a year',\n",
       "       u'$78,630 - $102,600 a year', u'$4,460 - $5,616 a month',\n",
       "       u'$63,339 - $76,007 a year', u'$66,654 a year',\n",
       "       u'$56,000 - $75,000 a year', u'$95,000 - $127,000 a year',\n",
       "       u'$84,000 a year', u'$41.50 an hour', u'$17 - $24 an hour',\n",
       "       u'$45,900 a year', u'$80,000 - $130,000 a year',\n",
       "       u'$20.74 - $22.74 an hour', u'$22.56 - $29.43 an hour',\n",
       "       u'$90 an hour', u'$29.00 - $43.13 an hour',\n",
       "       u'$25.22 - $37.16 an hour', u'$75,000 - $150,000 a year',\n",
       "       u'$20.57 - $30.00 an hour', u'$130,000 - $140,000 a year',\n",
       "       u'$23.33 an hour', u'$67,109 - $80,279 a year',\n",
       "       u'$4,693 - $7,617 a month', u'$45,082 a year',\n",
       "       u'$29.68 - $33.00 an hour', u'$38.13 - $45.58 a day',\n",
       "       u'$44.91 a day', u'$45,058 a year', u'$75,000 - $120,000 a year',\n",
       "       u'$130,000 - $190,000 a year', u'$50 - $70 an hour',\n",
       "       u'$54,864 - $71,326 a year', u'$130,000 - $135,000 a year',\n",
       "       u'$45 - $80 an hour', u'$165,000 - $195,000 a year',\n",
       "       u'$115,000 - $135,000 a year', u'$39,983 - $55,500 a year',\n",
       "       u'$44,616 - $82,618 a year', u'$43.50 an hour',\n",
       "       u'$45,000 - $77,000 a year', u'$12.69 - $14.42 an hour',\n",
       "       u'$49,957 - $68,721 a year', u'$55,000 - $77,400 a year',\n",
       "       u'$70,265 a year', u'$80,078 a year', u'$26.89 - $36.96 an hour',\n",
       "       u'$74,399 - $113,574 a year', u'$75,000 - $110,000 a year',\n",
       "       u'$28.14 an hour', u'$38,748 - $101,602 a year',\n",
       "       u'$43,030 - $111,307 a year', u'$54 an hour', u'$20.96 an hour',\n",
       "       u'$250,000 a year', u'$60,000 - $95,000 a year',\n",
       "       u'$25,900 - $56,458 a year', u'$63,200 - $75,250 a year',\n",
       "       u'$35 - $55 an hour', u'$80 - $115 an hour',\n",
       "       u'$49,990 - $71,260 a year', u'$56,660 a year',\n",
       "       u'$110,000 - $145,000 a year', u'$4,000 a month',\n",
       "       u'$6,250 - $10,833 a month', u'$75,000 - $130,000 a year',\n",
       "       u'$64,800 - $78,000 a year', u'$7,916 a month',\n",
       "       u'$7,083 - $9,166 a month', u'$2,333 a month',\n",
       "       u'$5,400 - $6,500 a month', u'$79,000 a year', u'$3,197 a month',\n",
       "       u'$5,583 - $7,260 a month', u'$5,000 - $5,833 a month',\n",
       "       u'$70,000 - $81,000 a year', u'$90 - $105 an hour',\n",
       "       u'$90,000 - $140,000 a year', u'$57,969 - $62,000 a year',\n",
       "       u'$120,000 - $200,000 a year', u'$70,286 - $83,784 a year',\n",
       "       u'$75,000 - $105,000 a year', u'$59,708 - $65,678 a year',\n",
       "       u'$52,648 - $81,606 a year', u'$44.19 - $66.29 an hour',\n",
       "       u'$155,000 - $165,000 a year', u'$90,000 - $125,000 a year',\n",
       "       u'$128,082 - $160,300 a year', u'$196,000 a year',\n",
       "       u'$99,659 - $139,522 a year', u'$200,000 - $220,000 a year',\n",
       "       u'$120,000 - $170,000 a year', u'$250,000 - $300,000 a year',\n",
       "       u'$175,000 - $275,000 a year', u'$60,013 - $96,021 a year',\n",
       "       u'$106,380 - $138,296 a year', u'$75,705 - $98,420 a year',\n",
       "       u'$110,000 - $160,000 a year', u'$44,800 a year', u'$68,300 a year',\n",
       "       u'$50,120 - $77,686 a year', u'$118,100 a year',\n",
       "       u'$13.00 - $14.50 an hour', u'$34,959 - $54,186 a year',\n",
       "       u'$66,413 - $106,260 a year', u'$75,156 - $112,734 a year',\n",
       "       u'$38,857 a year', u'$59,203 a year', u'$57,400 a year',\n",
       "       u'$90,500 - $120,700 a year', u'$70,286 - $81,000 a year',\n",
       "       u'$71,291 - $81,985 a year', u'$59,791 - $80,000 a year',\n",
       "       u'$51,000 - $66,000 a year', u'$60,604 a year',\n",
       "       u'$45,919 - $67,556 a year', u'$57,083 a year', u'$93,190 a year',\n",
       "       u'$35,000 - $58,000 a year', u'$29,000 - $31,000 a year',\n",
       "       u'$150,000 - $225,000 a year', u'$3,384 - $4,098 a month',\n",
       "       u'$15.88 an hour', u'$4,117 - $5,000 a month',\n",
       "       u'$41,633 - $51,001 a year', u'$18.33 - $33.64 an hour',\n",
       "       u'$36,869 - $76,462 a year', u'$81,668 - $130,669 a year',\n",
       "       u'$82,098 - $119,101 a year', u'$44,081 - $64,358 a year',\n",
       "       u'$3,458 - $3,823 a month', u'$140,000 - $190,000 a year',\n",
       "       u'$51,501 - $72,093 a year', u'$60,000 - $100,000 a year',\n",
       "       u'$37,000 a year', u'$55,161 - $80,817 a year',\n",
       "       u'$41,150 - $53,570 a year', u'$15.82 an hour',\n",
       "       u'$110,000 - $130,000 a year', u'$4,207 - $5,118 a month',\n",
       "       u'$15.56 - $16.80 an hour', u'$53,000 - $65,000 a year',\n",
       "       u'$17.23 - $18.74 an hour', u'$70,000 - $75,000 a year',\n",
       "       u'$69,532 - $92,741 a year', u'$16.87 an hour',\n",
       "       u'$48,460 - $66,487 a year', u'$77,134 - $106,470 a year',\n",
       "       u'$69,096 - $107,282 a year', u'$37,706 - $56,472 a year',\n",
       "       u'$60,605 - $101,733 a year', u'$48,000 - $55,000 a year',\n",
       "       u'$35.58 - $55.16 an hour', u'$34,690 a year',\n",
       "       u'$51,507 - $77,724 a year', u'$3,126 - $4,005 a month',\n",
       "       u'$130,000 - $155,000 a year', u'$3,721 - $6,041 a month',\n",
       "       u'$58,464 - $68,904 a year', u'$5,404 - $6,572 a month',\n",
       "       u'$88,000 - $98,000 a year', u'$85,000 - $120,000 a year',\n",
       "       u'$48.55 an hour', u'$39.42 an hour', u'$68,390 - $85,009 a year',\n",
       "       u'$18 - $25 an hour', u'$8,744 - $10,629 a month',\n",
       "       u'$70,000 - $125,000 a year', u'$5,026 a month',\n",
       "       u'$75,420 - $81,672 a year', u'$76,035 - $115,830 a year',\n",
       "       u'$4,845 - $8,035 a month', u'$4,231 a month',\n",
       "       u'$88,038 - $149,664 a year', u'$27,040 - $31,200 a year',\n",
       "       u'$56,677 a year', u'$63,108 - $88,351 a year',\n",
       "       u'$60,000 - $65,544 a year', u'$47,103 a year', u'$47,600 a year',\n",
       "       u'$39,600 - $50,000 a year', u'$54,515 - $81,773 a year',\n",
       "       u'$60,354 a year', u'$17 - $19 an hour', u'$62,917 a year',\n",
       "       u'$88,046 - $149,656 a year', u'$38,880 - $57,000 a year',\n",
       "       u'$62,766 - $98,073 a year', u'$15 - $19 an hour',\n",
       "       u'$36,000 - $51,000 a year', u'$36,814 - $65,827 a year',\n",
       "       u'$18 - $23 an hour', u'$50,502 - $83,158 a year',\n",
       "       u'$76,559 - $111,010 a year', u'$46,932 - $84,157 a year',\n",
       "       u'$10 an hour', u'$52,000 a year', u'$26.79 - $42.31 an hour',\n",
       "       u'$27.21 - $40.82 an hour', u'$15.24 - $17.09 an hour',\n",
       "       u'$69,555 - $94,266 a year', u'$46,857 - $75,012 a year',\n",
       "       u'$34,000 - $36,075 a year', u'$62 an hour',\n",
       "       u'$37,040 - $59,932 a year', u'$36,557 - $57,808 a year',\n",
       "       u'$53,193 - $85,401 a year', u'$13.76 - $17.60 an hour',\n",
       "       u'$29.74 - $40.93 an hour', u'$136,000 - $165,000 a year',\n",
       "       u'$50,028 - $62,188 a year', u'$15.34 - $21.08 an hour',\n",
       "       u'$107,145 - $150,000 a year', u'$16.69 - $21.05 an hour',\n",
       "       u'$39,229 - $53,976 a year', u'$53,193 - $69,273 a year',\n",
       "       u'$47,939 - $59,712 a year', u'$48,251 - $65,000 a year',\n",
       "       u'$49,951 - $59,700 a year', u'$65,798 - $90,411 a year',\n",
       "       u'$54,644 a year', u'$44,347 - $72,346 a year',\n",
       "       u'$36,761 - $58,006 a year', u'$54,523 - $99,814 a year',\n",
       "       u'$30,856 - $46,878 a year', u'$49,481 - $90,534 a year',\n",
       "       u'$56,000 - $131,000 a year', u'$215,000 a year',\n",
       "       u'$39,346 - $50,000 a year', u'$43,855 - $62,603 a year',\n",
       "       u'$36,000 a year', u'$33,001 - $50,881 a year',\n",
       "       u'$28,875 - $43,422 a year', u'$38,519 - $84,413 a year',\n",
       "       u'$55,000 - $69,931 a year', u'$79,061 a year',\n",
       "       u'$55 - $75 an hour', u'$55,017 - $78,763 a year',\n",
       "       u'$122,000 - $130,000 a year', u'$90,300 - $102,600 a year',\n",
       "       u'$50 - $75 an hour', u'$72,046 - $140,808 a year', u'$85 an hour',\n",
       "       u'$44,309 - $75,288 a year', u'$28.70 an hour',\n",
       "       u'$64,480 - $76,960 a year', u'$15.75 an hour',\n",
       "       u'$39,127 - $48,909 a year', u'$69,123 a year', u'$116,875 a year',\n",
       "       u'$48,000 a year', u'$13.10 an hour', u'$19.36 - $24.59 an hour',\n",
       "       u'$23,400 a year', u'$4,083 a month', u'$6,363 - $8,667 a month',\n",
       "       u'$8,333 - $9,418 a month', u'$2,188 a month',\n",
       "       u'$46,383 - $66,261 a year', u'$5,416 a month',\n",
       "       u'$11,333 - $11,500 a month', u'$64,000 - $88,000 a year',\n",
       "       u'$4,917 - $7,600 a month', u'$3,763 - $8,060 a month',\n",
       "       u'$42,000 - $70,000 a year', u'$3,886 - $4,915 a month',\n",
       "       u'$4,124 - $4,619 a month', u'$6,363 - $9,419 a month',\n",
       "       u'$3,956 a month', u'$4,023 - $5,301 a month',\n",
       "       u'$18.83 - $23.42 an hour', u'$4,023 - $4,627 a month',\n",
       "       u'$2,076 - $3,048 a month', u'$150,000 - $250,000 a year',\n",
       "       u'$6,363 - $7,800 a month', u'$4,599 - $6,066 a month',\n",
       "       u'$4,000 - $5,719 a month', u'$3,293 - $4,332 a month',\n",
       "       u'$3,293 - $5,371 a month', u'$5,259 - $6,941 a month',\n",
       "       u'$3,520 - $4,634 a month', u'$55,637 - $77,953 a year',\n",
       "       u'$24.81 an hour', u'$11.50 - $13.90 an hour', u'$29.34 an hour',\n",
       "       u'$90,000 - $200,000 a year', u'$40,000 - $43,500 a year',\n",
       "       u'$71,291 - $82,294 a year', u'$65,014 - $101,307 a year',\n",
       "       u'$33.83 - $39.40 an hour', u'$2,617 - $3,461 a month',\n",
       "       u'$40.16 - $46.80 an hour', u'$33.78 - $50.66 an hour',\n",
       "       u'$50,035 a year', u'$140,000 - $202,571 a year',\n",
       "       u'$78,521 - $99,530 a year', u'$2,961 - $4,110 a month',\n",
       "       u'$92,000 - $118,000 a year', u'$2,670 - $3,467 a month',\n",
       "       u'$2,907 - $3,806 a month', u'$2,617 - $3,381 a month',\n",
       "       u'$2,617 - $2,739 a month', u'$15.10 - $19.97 an hour',\n",
       "       u'$800 - $1,600 a month', u'$110,621 - $154,869 a year',\n",
       "       u'$51,039 - $65,709 a year', u'$117,528 - $195,880 a year',\n",
       "       u'$46,026 a year', u'$77,840 - $97,300 a year',\n",
       "       u'$30.68 - $37.29 an hour', u'$63,180 - $76,778 a year',\n",
       "       u'$5,743 - $7,051 a month', u'$88,800 - $93,600 a year',\n",
       "       u'$85,000 - $165,000 a year', u'$135,000 - $160,000 a year'], dtype=object)"
      ]
     },
     "execution_count": 10,
     "metadata": {},
     "output_type": "execute_result"
    }
   ],
   "source": [
    "df.salary.unique()"
   ]
  },
  {
   "cell_type": "code",
   "execution_count": 11,
   "metadata": {
    "collapsed": true
   },
   "outputs": [],
   "source": [
    "# Next, I need to pull from this database only those unique entries with salary information.\n",
    "df2=pd.DataFrame()\n",
    "df2 = df[df['salary']!='NA']"
   ]
  },
  {
   "cell_type": "code",
   "execution_count": 12,
   "metadata": {
    "collapsed": false
   },
   "outputs": [
    {
     "data": {
      "text/plain": [
       "(3276, 4)"
      ]
     },
     "execution_count": 12,
     "metadata": {},
     "output_type": "execute_result"
    }
   ],
   "source": [
    "df2.shape"
   ]
  },
  {
   "cell_type": "code",
   "execution_count": 13,
   "metadata": {
    "collapsed": false
   },
   "outputs": [
    {
     "data": {
      "text/html": [
       "<div>\n",
       "<table border=\"1\" class=\"dataframe\">\n",
       "  <thead>\n",
       "    <tr style=\"text-align: right;\">\n",
       "      <th></th>\n",
       "      <th>location</th>\n",
       "      <th>company</th>\n",
       "      <th>job</th>\n",
       "      <th>salary</th>\n",
       "    </tr>\n",
       "  </thead>\n",
       "  <tbody>\n",
       "    <tr>\n",
       "      <th>18</th>\n",
       "      <td>Atlanta, GA</td>\n",
       "      <td>Smith Hanley Associates</td>\n",
       "      <td>Statistician - Model Validation</td>\n",
       "      <td>$90,000 - $120,000 a year</td>\n",
       "    </tr>\n",
       "    <tr>\n",
       "      <th>25</th>\n",
       "      <td>Atlanta, GA</td>\n",
       "      <td>All-In Analytics</td>\n",
       "      <td>Director of Analytic Solutions</td>\n",
       "      <td>$134,800 a year</td>\n",
       "    </tr>\n",
       "    <tr>\n",
       "      <th>46</th>\n",
       "      <td>Atlanta, GA</td>\n",
       "      <td>Smith Hanley Associates</td>\n",
       "      <td>Statistician - Model Validation</td>\n",
       "      <td>$90,000 - $120,000 a year</td>\n",
       "    </tr>\n",
       "    <tr>\n",
       "      <th>51</th>\n",
       "      <td>Atlanta, GA</td>\n",
       "      <td>All-In Analytics</td>\n",
       "      <td>Director of Analytic Solutions</td>\n",
       "      <td>$134,800 a year</td>\n",
       "    </tr>\n",
       "    <tr>\n",
       "      <th>73</th>\n",
       "      <td>Atlanta, GA</td>\n",
       "      <td>Smith Hanley Associates</td>\n",
       "      <td>Statistician - Model Validation</td>\n",
       "      <td>$90,000 - $120,000 a year</td>\n",
       "    </tr>\n",
       "  </tbody>\n",
       "</table>\n",
       "</div>"
      ],
      "text/plain": [
       "       location                  company                              job  \\\n",
       "18  Atlanta, GA  Smith Hanley Associates  Statistician - Model Validation   \n",
       "25  Atlanta, GA         All-In Analytics   Director of Analytic Solutions   \n",
       "46  Atlanta, GA  Smith Hanley Associates  Statistician - Model Validation   \n",
       "51  Atlanta, GA         All-In Analytics   Director of Analytic Solutions   \n",
       "73  Atlanta, GA  Smith Hanley Associates  Statistician - Model Validation   \n",
       "\n",
       "                       salary  \n",
       "18  $90,000 - $120,000 a year  \n",
       "25            $134,800 a year  \n",
       "46  $90,000 - $120,000 a year  \n",
       "51            $134,800 a year  \n",
       "73  $90,000 - $120,000 a year  "
      ]
     },
     "execution_count": 13,
     "metadata": {},
     "output_type": "execute_result"
    }
   ],
   "source": [
    "df2.head()"
   ]
  },
  {
   "cell_type": "code",
   "execution_count": 14,
   "metadata": {
    "collapsed": true
   },
   "outputs": [],
   "source": [
    "# Since it appears there are duplicate entries, I need to remove them."
   ]
  },
  {
   "cell_type": "code",
   "execution_count": 15,
   "metadata": {
    "collapsed": false
   },
   "outputs": [],
   "source": [
    "dfjobs=pd.DataFrame()\n",
    "dfjobs=df2.drop_duplicates()"
   ]
  },
  {
   "cell_type": "code",
   "execution_count": 16,
   "metadata": {
    "collapsed": false
   },
   "outputs": [
    {
     "data": {
      "text/plain": [
       "(1992, 4)"
      ]
     },
     "execution_count": 16,
     "metadata": {},
     "output_type": "execute_result"
    }
   ],
   "source": [
    "dfjobs.shape"
   ]
  },
  {
   "cell_type": "code",
   "execution_count": 17,
   "metadata": {
    "collapsed": false
   },
   "outputs": [
    {
     "name": "stderr",
     "output_type": "stream",
     "text": [
      "/Users/jonvanwieren/anaconda2/lib/python2.7/site-packages/ipykernel/__main__.py:2: SettingWithCopyWarning: \n",
      "A value is trying to be set on a copy of a slice from a DataFrame.\n",
      "Try using .loc[row_indexer,col_indexer] = value instead\n",
      "\n",
      "See the caveats in the documentation: http://pandas.pydata.org/pandas-docs/stable/indexing.html#indexing-view-versus-copy\n",
      "  from ipykernel import kernelapp as app\n"
     ]
    }
   ],
   "source": [
    "# Create column for numerical equivalents to compare pay for jobs.\n",
    "dfjobs['salval'] = 0"
   ]
  },
  {
   "cell_type": "code",
   "execution_count": 18,
   "metadata": {
    "collapsed": false
   },
   "outputs": [
    {
     "data": {
      "text/html": [
       "<div>\n",
       "<table border=\"1\" class=\"dataframe\">\n",
       "  <thead>\n",
       "    <tr style=\"text-align: right;\">\n",
       "      <th></th>\n",
       "      <th>location</th>\n",
       "      <th>company</th>\n",
       "      <th>job</th>\n",
       "      <th>salary</th>\n",
       "      <th>salval</th>\n",
       "    </tr>\n",
       "  </thead>\n",
       "  <tbody>\n",
       "    <tr>\n",
       "      <th>18</th>\n",
       "      <td>Atlanta, GA</td>\n",
       "      <td>Smith Hanley Associates</td>\n",
       "      <td>Statistician - Model Validation</td>\n",
       "      <td>$90,000 - $120,000 a year</td>\n",
       "      <td>0</td>\n",
       "    </tr>\n",
       "    <tr>\n",
       "      <th>25</th>\n",
       "      <td>Atlanta, GA</td>\n",
       "      <td>All-In Analytics</td>\n",
       "      <td>Director of Analytic Solutions</td>\n",
       "      <td>$134,800 a year</td>\n",
       "      <td>0</td>\n",
       "    </tr>\n",
       "    <tr>\n",
       "      <th>196</th>\n",
       "      <td>Edison, NJ</td>\n",
       "      <td>Sollers</td>\n",
       "      <td>Data Analyst</td>\n",
       "      <td>$75,000 a year</td>\n",
       "      <td>0</td>\n",
       "    </tr>\n",
       "    <tr>\n",
       "      <th>202</th>\n",
       "      <td>Franklin Lakes, NJ</td>\n",
       "      <td>On-Board Services</td>\n",
       "      <td>Statistician 2</td>\n",
       "      <td>$70 an hour</td>\n",
       "      <td>0</td>\n",
       "    </tr>\n",
       "    <tr>\n",
       "      <th>205</th>\n",
       "      <td>New York, NY</td>\n",
       "      <td>POLICE DEPARTMENT</td>\n",
       "      <td>Statistician, Level I</td>\n",
       "      <td>$42,288 - $63,519 a year</td>\n",
       "      <td>0</td>\n",
       "    </tr>\n",
       "  </tbody>\n",
       "</table>\n",
       "</div>"
      ],
      "text/plain": [
       "               location                  company  \\\n",
       "18          Atlanta, GA  Smith Hanley Associates   \n",
       "25          Atlanta, GA         All-In Analytics   \n",
       "196          Edison, NJ                  Sollers   \n",
       "202  Franklin Lakes, NJ        On-Board Services   \n",
       "205        New York, NY        POLICE DEPARTMENT   \n",
       "\n",
       "                                 job                     salary  salval  \n",
       "18   Statistician - Model Validation  $90,000 - $120,000 a year       0  \n",
       "25    Director of Analytic Solutions            $134,800 a year       0  \n",
       "196                     Data Analyst             $75,000 a year       0  \n",
       "202                   Statistician 2                $70 an hour       0  \n",
       "205            Statistician, Level I   $42,288 - $63,519 a year       0  "
      ]
     },
     "execution_count": 18,
     "metadata": {},
     "output_type": "execute_result"
    }
   ],
   "source": [
    "dfjobs.head()"
   ]
  },
  {
   "cell_type": "code",
   "execution_count": 20,
   "metadata": {
    "collapsed": false
   },
   "outputs": [],
   "source": [
    "# Next, I will loop through all the salary entries and turn them into numerical equivalents of one year's salary.\n",
    "sal_equiv=[]\n",
    "periods = [('an hour',2000), ('a day',250), ('a week',52), ('a month',12), ('a year',1)]\n",
    "for i in dfjobs['salary']:\n",
    "    # Changes type from unicode to string\n",
    "    i=str(i)\n",
    "    for period,multiplier in periods:\n",
    "        if period in i:\n",
    "            x = i.replace('$','').replace(',','').replace(period,'')\n",
    "            if '-' in x:\n",
    "                xx = x.split('-')\n",
    "                yy = np.mean([float(xxx) for xxx in xx])\n",
    "                y = round((float(yy)*multiplier),0)\n",
    "            else:\n",
    "                y = round((float(x)*multiplier),0)\n",
    "            sal_equiv.append(y)"
   ]
  },
  {
   "cell_type": "code",
   "execution_count": 72,
   "metadata": {
    "collapsed": false
   },
   "outputs": [],
   "source": [
    "### My original kinda ugly code! (I couldn't stand to delete it - we became close on Saturday!)\n",
    "# # Next, I will loop through all the salary entries and turn them into numerical equivalents of one year's salary.\n",
    "# sal_equiv=[]\n",
    "# for i in dfjobs['salary']:\n",
    "#     # Changes type from unicode to string\n",
    "#     i=str(i)\n",
    "#     if 'an hour' in i:\n",
    "#         x = i.replace('$','').replace(',','').replace('an hour','')\n",
    "#         if '-' in x:\n",
    "#             xx = x.split('-')\n",
    "#             yy = np.mean([float(xxx) for xxx in xx])\n",
    "#             y = round((float(yy)*40*50),0)\n",
    "#         else:\n",
    "#             y = round((float(x)*40*50),0)\n",
    "#         sal_equiv.append(y)\n",
    "#     elif 'a day' in i:\n",
    "#         x = i.replace('$','').replace(',','').replace('a day','')\n",
    "#         if '-' in x:\n",
    "#             xx = x.split('-')\n",
    "#             yy = np.mean([float(xxx) for xxx in xx])\n",
    "#             y = round((float(yy)*5*50),0)\n",
    "#         else:\n",
    "#             y = round((float(x)*5*50),0)\n",
    "#         sal_equiv.append(y)\n",
    "#     elif 'a week' in i:\n",
    "#         x = i.replace('$','').replace(',','').replace('a week','')\n",
    "#         if '-' in x:\n",
    "#             xx = x.split('-')\n",
    "#             yy = np.mean([float(xxx) for xxx in xx])\n",
    "#             y = round((float(yy)*50),0)\n",
    "#         else:\n",
    "#             y = round((float(x)*50),0)\n",
    "#         sal_equiv.append(y)\n",
    "#     elif 'a month' in i:\n",
    "#         x = i.replace('$','').replace(',','').replace('a month','')\n",
    "#         if '-' in x:\n",
    "#             xx = x.split('-')\n",
    "#             yy = np.mean([float(xxx) for xxx in xx])\n",
    "#             y = round((float(yy)*12),0)\n",
    "#         else:\n",
    "#             y = round((float(x)*12),0)\n",
    "#         sal_equiv.append(y)\n",
    "#     elif 'a year' in i:\n",
    "#         x = i.replace('$','').replace(',','').replace('a year','')\n",
    "#         if '-' in x:\n",
    "#             xx = x.split('-')\n",
    "#             yy = np.mean([float(xxx) for xxx in xx])\n",
    "#             y = round((float(yy)),0)\n",
    "#         else:\n",
    "#             y = round((float(x)))\n",
    "#         sal_equiv.append(y)\n",
    "#     else:\n",
    "#         sal_equiv.append(i)"
   ]
  },
  {
   "cell_type": "code",
   "execution_count": 21,
   "metadata": {
    "collapsed": false
   },
   "outputs": [
    {
     "name": "stderr",
     "output_type": "stream",
     "text": [
      "/Users/jonvanwieren/anaconda2/lib/python2.7/site-packages/ipykernel/__main__.py:1: SettingWithCopyWarning: \n",
      "A value is trying to be set on a copy of a slice from a DataFrame.\n",
      "Try using .loc[row_indexer,col_indexer] = value instead\n",
      "\n",
      "See the caveats in the documentation: http://pandas.pydata.org/pandas-docs/stable/indexing.html#indexing-view-versus-copy\n",
      "  if __name__ == '__main__':\n"
     ]
    }
   ],
   "source": [
    "dfjobs['salval'] = sal_equiv"
   ]
  },
  {
   "cell_type": "code",
   "execution_count": 22,
   "metadata": {
    "collapsed": false
   },
   "outputs": [
    {
     "data": {
      "text/html": [
       "<div>\n",
       "<table border=\"1\" class=\"dataframe\">\n",
       "  <thead>\n",
       "    <tr style=\"text-align: right;\">\n",
       "      <th></th>\n",
       "      <th>location</th>\n",
       "      <th>company</th>\n",
       "      <th>job</th>\n",
       "      <th>salary</th>\n",
       "      <th>salval</th>\n",
       "    </tr>\n",
       "  </thead>\n",
       "  <tbody>\n",
       "    <tr>\n",
       "      <th>18</th>\n",
       "      <td>Atlanta, GA</td>\n",
       "      <td>Smith Hanley Associates</td>\n",
       "      <td>Statistician - Model Validation</td>\n",
       "      <td>$90,000 - $120,000 a year</td>\n",
       "      <td>105000.0</td>\n",
       "    </tr>\n",
       "    <tr>\n",
       "      <th>25</th>\n",
       "      <td>Atlanta, GA</td>\n",
       "      <td>All-In Analytics</td>\n",
       "      <td>Director of Analytic Solutions</td>\n",
       "      <td>$134,800 a year</td>\n",
       "      <td>134800.0</td>\n",
       "    </tr>\n",
       "    <tr>\n",
       "      <th>196</th>\n",
       "      <td>Edison, NJ</td>\n",
       "      <td>Sollers</td>\n",
       "      <td>Data Analyst</td>\n",
       "      <td>$75,000 a year</td>\n",
       "      <td>75000.0</td>\n",
       "    </tr>\n",
       "    <tr>\n",
       "      <th>202</th>\n",
       "      <td>Franklin Lakes, NJ</td>\n",
       "      <td>On-Board Services</td>\n",
       "      <td>Statistician 2</td>\n",
       "      <td>$70 an hour</td>\n",
       "      <td>140000.0</td>\n",
       "    </tr>\n",
       "    <tr>\n",
       "      <th>205</th>\n",
       "      <td>New York, NY</td>\n",
       "      <td>POLICE DEPARTMENT</td>\n",
       "      <td>Statistician, Level I</td>\n",
       "      <td>$42,288 - $63,519 a year</td>\n",
       "      <td>52904.0</td>\n",
       "    </tr>\n",
       "  </tbody>\n",
       "</table>\n",
       "</div>"
      ],
      "text/plain": [
       "               location                  company  \\\n",
       "18          Atlanta, GA  Smith Hanley Associates   \n",
       "25          Atlanta, GA         All-In Analytics   \n",
       "196          Edison, NJ                  Sollers   \n",
       "202  Franklin Lakes, NJ        On-Board Services   \n",
       "205        New York, NY        POLICE DEPARTMENT   \n",
       "\n",
       "                                 job                     salary    salval  \n",
       "18   Statistician - Model Validation  $90,000 - $120,000 a year  105000.0  \n",
       "25    Director of Analytic Solutions            $134,800 a year  134800.0  \n",
       "196                     Data Analyst             $75,000 a year   75000.0  \n",
       "202                   Statistician 2                $70 an hour  140000.0  \n",
       "205            Statistician, Level I   $42,288 - $63,519 a year   52904.0  "
      ]
     },
     "execution_count": 22,
     "metadata": {},
     "output_type": "execute_result"
    }
   ],
   "source": [
    "dfjobs.head()"
   ]
  },
  {
   "cell_type": "code",
   "execution_count": 23,
   "metadata": {
    "collapsed": false
   },
   "outputs": [
    {
     "data": {
      "text/plain": [
       "(1992, 5)"
      ]
     },
     "execution_count": 23,
     "metadata": {},
     "output_type": "execute_result"
    }
   ],
   "source": [
    "dfjobs.shape"
   ]
  },
  {
   "cell_type": "code",
   "execution_count": 24,
   "metadata": {
    "collapsed": false
   },
   "outputs": [
    {
     "name": "stdout",
     "output_type": "stream",
     "text": [
      "25% percentile : 53744.5\n",
      "Median salary : 77025.0\n",
      "75% percentile : 102512.0\n"
     ]
    }
   ],
   "source": [
    "# In order to determine \"high\" or \"low\" salaries, we will create two columns, High (1) / Low (0), and also a column\n",
    "# for quartlies (1,2,3 or 4 depending on which quartile the data is in.)\n",
    "\n",
    "# Calculate median salary:\n",
    "mediansal = np.median(dfjobs['salval'])\n",
    "lowperc = np.percentile(dfjobs['salval'],25)\n",
    "highperc = np.percentile(dfjobs['salval'],75)\n",
    "print '25% percentile :', lowperc\n",
    "print 'Median salary :', mediansal\n",
    "print '75% percentile :', highperc"
   ]
  },
  {
   "cell_type": "code",
   "execution_count": 25,
   "metadata": {
    "collapsed": false
   },
   "outputs": [
    {
     "name": "stderr",
     "output_type": "stream",
     "text": [
      "/Users/jonvanwieren/anaconda2/lib/python2.7/site-packages/ipykernel/__main__.py:1: SettingWithCopyWarning: \n",
      "A value is trying to be set on a copy of a slice from a DataFrame.\n",
      "Try using .loc[row_indexer,col_indexer] = value instead\n",
      "\n",
      "See the caveats in the documentation: http://pandas.pydata.org/pandas-docs/stable/indexing.html#indexing-view-versus-copy\n",
      "  if __name__ == '__main__':\n"
     ]
    }
   ],
   "source": [
    "dfjobs['high_low'] = [1 if i >= mediansal else 0 for i in dfjobs['salval']]\n"
   ]
  },
  {
   "cell_type": "code",
   "execution_count": 26,
   "metadata": {
    "collapsed": false
   },
   "outputs": [
    {
     "name": "stderr",
     "output_type": "stream",
     "text": [
      "/Users/jonvanwieren/anaconda2/lib/python2.7/site-packages/ipykernel/__main__.py:1: SettingWithCopyWarning: \n",
      "A value is trying to be set on a copy of a slice from a DataFrame.\n",
      "Try using .loc[row_indexer,col_indexer] = value instead\n",
      "\n",
      "See the caveats in the documentation: http://pandas.pydata.org/pandas-docs/stable/indexing.html#indexing-view-versus-copy\n",
      "  if __name__ == '__main__':\n"
     ]
    }
   ],
   "source": [
    "dfjobs['quart'] = [4 if i >= highperc else 3 if i >= mediansal else 2 if i >= lowperc else 1 for i in dfjobs['salval']]"
   ]
  },
  {
   "cell_type": "code",
   "execution_count": 27,
   "metadata": {
    "collapsed": false
   },
   "outputs": [
    {
     "data": {
      "text/html": [
       "<div>\n",
       "<table border=\"1\" class=\"dataframe\">\n",
       "  <thead>\n",
       "    <tr style=\"text-align: right;\">\n",
       "      <th></th>\n",
       "      <th>location</th>\n",
       "      <th>company</th>\n",
       "      <th>job</th>\n",
       "      <th>salary</th>\n",
       "      <th>salval</th>\n",
       "      <th>high_low</th>\n",
       "      <th>quart</th>\n",
       "    </tr>\n",
       "  </thead>\n",
       "  <tbody>\n",
       "    <tr>\n",
       "      <th>18</th>\n",
       "      <td>Atlanta, GA</td>\n",
       "      <td>Smith Hanley Associates</td>\n",
       "      <td>Statistician - Model Validation</td>\n",
       "      <td>$90,000 - $120,000 a year</td>\n",
       "      <td>105000.0</td>\n",
       "      <td>1</td>\n",
       "      <td>4</td>\n",
       "    </tr>\n",
       "    <tr>\n",
       "      <th>25</th>\n",
       "      <td>Atlanta, GA</td>\n",
       "      <td>All-In Analytics</td>\n",
       "      <td>Director of Analytic Solutions</td>\n",
       "      <td>$134,800 a year</td>\n",
       "      <td>134800.0</td>\n",
       "      <td>1</td>\n",
       "      <td>4</td>\n",
       "    </tr>\n",
       "    <tr>\n",
       "      <th>196</th>\n",
       "      <td>Edison, NJ</td>\n",
       "      <td>Sollers</td>\n",
       "      <td>Data Analyst</td>\n",
       "      <td>$75,000 a year</td>\n",
       "      <td>75000.0</td>\n",
       "      <td>0</td>\n",
       "      <td>2</td>\n",
       "    </tr>\n",
       "    <tr>\n",
       "      <th>202</th>\n",
       "      <td>Franklin Lakes, NJ</td>\n",
       "      <td>On-Board Services</td>\n",
       "      <td>Statistician 2</td>\n",
       "      <td>$70 an hour</td>\n",
       "      <td>140000.0</td>\n",
       "      <td>1</td>\n",
       "      <td>4</td>\n",
       "    </tr>\n",
       "    <tr>\n",
       "      <th>205</th>\n",
       "      <td>New York, NY</td>\n",
       "      <td>POLICE DEPARTMENT</td>\n",
       "      <td>Statistician, Level I</td>\n",
       "      <td>$42,288 - $63,519 a year</td>\n",
       "      <td>52904.0</td>\n",
       "      <td>0</td>\n",
       "      <td>1</td>\n",
       "    </tr>\n",
       "  </tbody>\n",
       "</table>\n",
       "</div>"
      ],
      "text/plain": [
       "               location                  company  \\\n",
       "18          Atlanta, GA  Smith Hanley Associates   \n",
       "25          Atlanta, GA         All-In Analytics   \n",
       "196          Edison, NJ                  Sollers   \n",
       "202  Franklin Lakes, NJ        On-Board Services   \n",
       "205        New York, NY        POLICE DEPARTMENT   \n",
       "\n",
       "                                 job                     salary    salval  \\\n",
       "18   Statistician - Model Validation  $90,000 - $120,000 a year  105000.0   \n",
       "25    Director of Analytic Solutions            $134,800 a year  134800.0   \n",
       "196                     Data Analyst             $75,000 a year   75000.0   \n",
       "202                   Statistician 2                $70 an hour  140000.0   \n",
       "205            Statistician, Level I   $42,288 - $63,519 a year   52904.0   \n",
       "\n",
       "     high_low  quart  \n",
       "18          1      4  \n",
       "25          1      4  \n",
       "196         0      2  \n",
       "202         1      4  \n",
       "205         0      1  "
      ]
     },
     "execution_count": 27,
     "metadata": {},
     "output_type": "execute_result"
    }
   ],
   "source": [
    "dfjobs.head()"
   ]
  },
  {
   "cell_type": "code",
   "execution_count": 29,
   "metadata": {
    "collapsed": false
   },
   "outputs": [
    {
     "name": "stderr",
     "output_type": "stream",
     "text": [
      "/Users/jonvanwieren/anaconda2/lib/python2.7/site-packages/ipykernel/__main__.py:7: SettingWithCopyWarning: \n",
      "A value is trying to be set on a copy of a slice from a DataFrame.\n",
      "Try using .loc[row_indexer,col_indexer] = value instead\n",
      "\n",
      "See the caveats in the documentation: http://pandas.pydata.org/pandas-docs/stable/indexing.html#indexing-view-versus-copy\n"
     ]
    }
   ],
   "source": [
    "# Need to eliminate anything other than city and state in location column\n",
    "citystlist=[]\n",
    "for i in dfjobs['location']:\n",
    "    loclist=i.split(',')\n",
    "    new=loclist[0]+','+loclist[1][0:3]\n",
    "    citystlist.append(new)\n",
    "dfjobs['location'] = citystlist"
   ]
  },
  {
   "cell_type": "code",
   "execution_count": 30,
   "metadata": {
    "collapsed": false
   },
   "outputs": [
    {
     "data": {
      "text/plain": [
       "0.5030120481927711"
      ]
     },
     "execution_count": 30,
     "metadata": {},
     "output_type": "execute_result"
    }
   ],
   "source": [
    "# The baseline accuracy for this model is .5, the mean of the high_low column.\n",
    "np.mean(dfjobs['high_low'])"
   ]
  },
  {
   "cell_type": "code",
   "execution_count": 31,
   "metadata": {
    "collapsed": true
   },
   "outputs": [],
   "source": [
    "# Save data in csv file \n",
    "dfjobs.to_csv('./data/dfjobs_csv.csv', index=False, encoding='utf-8')"
   ]
  },
  {
   "cell_type": "code",
   "execution_count": 2,
   "metadata": {
    "collapsed": true
   },
   "outputs": [],
   "source": [
    "# Load up the modules I will need for my modeling.\n",
    "from sklearn.ensemble import RandomForestClassifier\n",
    "from sklearn.metrics import accuracy_score\n",
    "from sklearn.model_selection import cross_val_score, StratifiedKFold, train_test_split\n",
    "from sklearn.preprocessing import StandardScaler\n",
    "from sklearn.tree import DecisionTreeClassifier"
   ]
  },
  {
   "cell_type": "code",
   "execution_count": 4,
   "metadata": {
    "collapsed": false
   },
   "outputs": [],
   "source": [
    "#Load data from csv file\n",
    "dfjobs=pd.read_csv('./data/dfjobs_csv.csv')"
   ]
  },
  {
   "cell_type": "code",
   "execution_count": 4,
   "metadata": {
    "collapsed": false
   },
   "outputs": [],
   "source": [
    "# Create list of top 20 cities for graphing\n",
    "top20city=dfjobs.location.value_counts().head(20)\n",
    "citygraph=top20city.index.tolist()"
   ]
  },
  {
   "cell_type": "code",
   "execution_count": 5,
   "metadata": {
    "collapsed": false
   },
   "outputs": [],
   "source": [
    "dfjobs20=dfjobs[dfjobs['location'].isin(citygraph)]"
   ]
  },
  {
   "cell_type": "code",
   "execution_count": 6,
   "metadata": {
    "collapsed": false
   },
   "outputs": [
    {
     "data": {
      "image/png": "[encoded data removed]",
      "text/plain": [
       "<matplotlib.figure.Figure at 0x11c92e0d0>"
      ]
     },
     "metadata": {},
     "output_type": "display_data"
    }
   ],
   "source": [
    "plt.figure(figsize=(18, 6))\n",
    "ax = sns.boxplot(x=\"location\", y=\"salval\", data=dfjobs20)\n",
    "ax.set_xticklabels(ax.xaxis.get_ticklabels(), fontsize=14, rotation=30)\n",
    "ax.set_title('20 Cities with most Tech ads on indeed.com', fontsize=30)\n",
    "plt.show()"
   ]
  },
  {
   "cell_type": "code",
   "execution_count": 21,
   "metadata": {
    "collapsed": false
   },
   "outputs": [
    {
     "data": {
      "text/html": [
       "<div>\n",
       "<table border=\"1\" class=\"dataframe\">\n",
       "  <thead>\n",
       "    <tr style=\"text-align: right;\">\n",
       "      <th></th>\n",
       "      <th>salval</th>\n",
       "    </tr>\n",
       "    <tr>\n",
       "      <th>location</th>\n",
       "      <th></th>\n",
       "    </tr>\n",
       "  </thead>\n",
       "  <tbody>\n",
       "    <tr>\n",
       "      <th>San Francisco, CA</th>\n",
       "      <td>104692.836066</td>\n",
       "    </tr>\n",
       "    <tr>\n",
       "      <th>Raleigh, NC</th>\n",
       "      <td>99877.650000</td>\n",
       "    </tr>\n",
       "    <tr>\n",
       "      <th>Boston, MA</th>\n",
       "      <td>99148.825000</td>\n",
       "    </tr>\n",
       "    <tr>\n",
       "      <th>Washington, DC</th>\n",
       "      <td>97854.826923</td>\n",
       "    </tr>\n",
       "    <tr>\n",
       "      <th>Irvine, CA</th>\n",
       "      <td>97696.466667</td>\n",
       "    </tr>\n",
       "    <tr>\n",
       "      <th>Chicago, IL</th>\n",
       "      <td>92801.469388</td>\n",
       "    </tr>\n",
       "    <tr>\n",
       "      <th>New York, NY</th>\n",
       "      <td>92250.500000</td>\n",
       "    </tr>\n",
       "    <tr>\n",
       "      <th>Atlanta, GA</th>\n",
       "      <td>88653.177570</td>\n",
       "    </tr>\n",
       "    <tr>\n",
       "      <th>Seattle, WA</th>\n",
       "      <td>83419.079365</td>\n",
       "    </tr>\n",
       "    <tr>\n",
       "      <th>Dallas, TX</th>\n",
       "      <td>79425.277778</td>\n",
       "    </tr>\n",
       "    <tr>\n",
       "      <th>Minneapolis, MN</th>\n",
       "      <td>77769.576923</td>\n",
       "    </tr>\n",
       "    <tr>\n",
       "      <th>Austin, TX</th>\n",
       "      <td>76657.969231</td>\n",
       "    </tr>\n",
       "    <tr>\n",
       "      <th>Manhattan, NY</th>\n",
       "      <td>74968.593750</td>\n",
       "    </tr>\n",
       "    <tr>\n",
       "      <th>San Diego, CA</th>\n",
       "      <td>73853.188406</td>\n",
       "    </tr>\n",
       "    <tr>\n",
       "      <th>Phoenix, AZ</th>\n",
       "      <td>73604.216667</td>\n",
       "    </tr>\n",
       "    <tr>\n",
       "      <th>Denver, CO</th>\n",
       "      <td>73232.206349</td>\n",
       "    </tr>\n",
       "    <tr>\n",
       "      <th>Detroit, MI</th>\n",
       "      <td>73092.777778</td>\n",
       "    </tr>\n",
       "    <tr>\n",
       "      <th>Saint Paul, MN</th>\n",
       "      <td>63716.961538</td>\n",
       "    </tr>\n",
       "    <tr>\n",
       "      <th>Baltimore, MD</th>\n",
       "      <td>62122.382353</td>\n",
       "    </tr>\n",
       "    <tr>\n",
       "      <th>Wake County, NC</th>\n",
       "      <td>61486.750000</td>\n",
       "    </tr>\n",
       "  </tbody>\n",
       "</table>\n",
       "</div>"
      ],
      "text/plain": [
       "                          salval\n",
       "location                        \n",
       "San Francisco, CA  104692.836066\n",
       "Raleigh, NC         99877.650000\n",
       "Boston, MA          99148.825000\n",
       "Washington, DC      97854.826923\n",
       "Irvine, CA          97696.466667\n",
       "Chicago, IL         92801.469388\n",
       "New York, NY        92250.500000\n",
       "Atlanta, GA         88653.177570\n",
       "Seattle, WA         83419.079365\n",
       "Dallas, TX          79425.277778\n",
       "Minneapolis, MN     77769.576923\n",
       "Austin, TX          76657.969231\n",
       "Manhattan, NY       74968.593750\n",
       "San Diego, CA       73853.188406\n",
       "Phoenix, AZ         73604.216667\n",
       "Denver, CO          73232.206349\n",
       "Detroit, MI         73092.777778\n",
       "Saint Paul, MN      63716.961538\n",
       "Baltimore, MD       62122.382353\n",
       "Wake County, NC     61486.750000"
      ]
     },
     "execution_count": 21,
     "metadata": {},
     "output_type": "execute_result"
    }
   ],
   "source": [
    "dfmean=dfjobs20.groupby(['location'])['salval'].mean()\n",
    "dfmeandb=pd.DataFrame(dfmean)\n",
    "dfmeandb.sort_values('salval',ascending=False)"
   ]
  },
  {
   "cell_type": "code",
   "execution_count": null,
   "metadata": {
    "collapsed": true
   },
   "outputs": [],
   "source": []
  },
  {
   "cell_type": "code",
   "execution_count": 11,
   "metadata": {
    "collapsed": false
   },
   "outputs": [
    {
     "data": {
      "text/plain": [
       "DecisionTreeClassifier(class_weight=None, criterion='gini', max_depth=3,\n",
       "            max_features=None, max_leaf_nodes=None,\n",
       "            min_impurity_split=1e-07, min_samples_leaf=1,\n",
       "            min_samples_split=50, min_weight_fraction_leaf=0.0,\n",
       "            presort=False, random_state=None, splitter='best')"
      ]
     },
     "execution_count": 11,
     "metadata": {},
     "output_type": "execute_result"
    }
   ],
   "source": [
    "# MODEL #1: DECISION TREE CLASSIFIER on location\n",
    "# Before running the random forest, I want to run a single Decision Tree to see visually how the model is working.\n",
    "\n",
    "y = dfjobs['high_low']\n",
    "X = pd.get_dummies(dfjobs['location'])\n",
    "dt = DecisionTreeClassifier(max_depth=3, min_samples_split=50)\n",
    "dt.fit(X,y)"
   ]
  },
  {
   "cell_type": "code",
   "execution_count": 12,
   "metadata": {
    "collapsed": false
   },
   "outputs": [
    {
     "name": "stdout",
     "output_type": "stream",
     "text": [
      "Cross-val score:  0.484954773869\n"
     ]
    }
   ],
   "source": [
    "scores = cross_val_score(dt,X,y,cv=10)\n",
    "print 'Cross-val score: ',np.mean(scores)"
   ]
  },
  {
   "cell_type": "code",
   "execution_count": 13,
   "metadata": {
    "collapsed": false
   },
   "outputs": [
    {
     "data": {
      "text/html": [
       "<div>\n",
       "<table border=\"1\" class=\"dataframe\">\n",
       "  <thead>\n",
       "    <tr style=\"text-align: right;\">\n",
       "      <th></th>\n",
       "      <th>importance</th>\n",
       "    </tr>\n",
       "  </thead>\n",
       "  <tbody>\n",
       "    <tr>\n",
       "      <th>Baltimore, MD</th>\n",
       "      <td>0.437150</td>\n",
       "    </tr>\n",
       "    <tr>\n",
       "      <th>Boston, MA</th>\n",
       "      <td>0.329046</td>\n",
       "    </tr>\n",
       "    <tr>\n",
       "      <th>Raleigh, NC</th>\n",
       "      <td>0.233805</td>\n",
       "    </tr>\n",
       "    <tr>\n",
       "      <th>Peoria, AZ</th>\n",
       "      <td>0.000000</td>\n",
       "    </tr>\n",
       "    <tr>\n",
       "      <th>Pomona, CA</th>\n",
       "      <td>0.000000</td>\n",
       "    </tr>\n",
       "  </tbody>\n",
       "</table>\n",
       "</div>"
      ],
      "text/plain": [
       "               importance\n",
       "Baltimore, MD    0.437150\n",
       "Boston, MA       0.329046\n",
       "Raleigh, NC      0.233805\n",
       "Peoria, AZ       0.000000\n",
       "Pomona, CA       0.000000"
      ]
     },
     "execution_count": 13,
     "metadata": {},
     "output_type": "execute_result"
    }
   ],
   "source": [
    "fe_im = pd.DataFrame(dt.feature_importances_,\n",
    "                                  index=X.columns,\n",
    "                                  columns=['importance'])\n",
    "fe_im.sort_values(by='importance', ascending=False).head()"
   ]
  },
  {
   "cell_type": "code",
   "execution_count": 5,
   "metadata": {
    "collapsed": false
   },
   "outputs": [
    {
     "name": "stdout",
     "output_type": "stream",
     "text": [
      "Cross-val score:  0.629163310962\n"
     ]
    }
   ],
   "source": [
    "# MODEL #2: RANDOM FOREST CLASSIFIER on location only\n",
    "\n",
    "y = dfjobs['high_low']\n",
    "X = pd.get_dummies(dfjobs['location'])\n",
    "\n",
    "X_train, X_test, y_train, y_test = train_test_split(X,y, test_size=.25)\n",
    "\n",
    "rfc = RandomForestClassifier(n_estimators=100, n_jobs=-1)\n",
    "rfc.fit(X_train,y_train)\n",
    "\n",
    "scores = cross_val_score(rfc,X_train,y_train,cv=10)\n",
    "print 'Cross-val score: ',np.mean(scores)"
   ]
  },
  {
   "cell_type": "code",
   "execution_count": 6,
   "metadata": {
    "collapsed": false
   },
   "outputs": [
    {
     "name": "stdout",
     "output_type": "stream",
     "text": [
      "Accuracy score:  0.66265060241\n"
     ]
    }
   ],
   "source": [
    "rfc_pr = rfc.predict(X_test)\n",
    "score = accuracy_score(y_test, rfc_pr)\n",
    "print 'Accuracy score: ',score"
   ]
  },
  {
   "cell_type": "code",
   "execution_count": 7,
   "metadata": {
    "collapsed": false
   },
   "outputs": [
    {
     "data": {
      "text/html": [
       "<div>\n",
       "<table border=\"1\" class=\"dataframe\">\n",
       "  <thead>\n",
       "    <tr style=\"text-align: right;\">\n",
       "      <th></th>\n",
       "      <th>importance</th>\n",
       "    </tr>\n",
       "  </thead>\n",
       "  <tbody>\n",
       "    <tr>\n",
       "      <th>Baltimore, MD</th>\n",
       "      <td>0.045433</td>\n",
       "    </tr>\n",
       "    <tr>\n",
       "      <th>Chicago, IL</th>\n",
       "      <td>0.042007</td>\n",
       "    </tr>\n",
       "    <tr>\n",
       "      <th>Boston, MA</th>\n",
       "      <td>0.028346</td>\n",
       "    </tr>\n",
       "    <tr>\n",
       "      <th>Raleigh, NC</th>\n",
       "      <td>0.028087</td>\n",
       "    </tr>\n",
       "    <tr>\n",
       "      <th>Fort Meade, MD</th>\n",
       "      <td>0.024895</td>\n",
       "    </tr>\n",
       "  </tbody>\n",
       "</table>\n",
       "</div>"
      ],
      "text/plain": [
       "                importance\n",
       "Baltimore, MD     0.045433\n",
       "Chicago, IL       0.042007\n",
       "Boston, MA        0.028346\n",
       "Raleigh, NC       0.028087\n",
       "Fort Meade, MD    0.024895"
      ]
     },
     "execution_count": 7,
     "metadata": {},
     "output_type": "execute_result"
    }
   ],
   "source": [
    "fe_im = pd.DataFrame(rfc.feature_importances_,\n",
    "                                  index=X.columns,\n",
    "                                  columns=['importance'])\n",
    "fe_im.sort_values(by='importance', ascending=False).head()"
   ]
  },
  {
   "cell_type": "code",
   "execution_count": 8,
   "metadata": {
    "collapsed": false
   },
   "outputs": [
    {
     "data": {
      "image/png": "[encoded data removed]",
      "text/plain": [
       "<matplotlib.figure.Figure at 0x1125a2e10>"
      ]
     },
     "metadata": {},
     "output_type": "display_data"
    }
   ],
   "source": [
    "fig, ax = plt.subplots(figsize=(14,6))\n",
    "fe_im.sort_values(by='importance',ascending=False).head(20).plot(kind='bar', ax=ax, fontsize=8)\n",
    "ax.set_xticklabels(ax.xaxis.get_ticklabels(), fontsize=10, rotation=30)\n",
    "ax.set_title('Top 20 Features (Location Only) in Random Forest Classifier',fontsize=20)\n",
    "plt.show()"
   ]
  },
  {
   "cell_type": "code",
   "execution_count": 9,
   "metadata": {
    "collapsed": false,
    "scrolled": false
   },
   "outputs": [
    {
     "name": "stdout",
     "output_type": "stream",
     "text": [
      "n_estimators = 1\n",
      "Cross-val score:  0.627840921458\n",
      "Accuracy score:  0.576305220884\n",
      "\n",
      "n_estimators = 2\n",
      "Cross-val score:  0.608471793942\n",
      "Accuracy score:  0.620481927711\n",
      "\n",
      "n_estimators = 3\n",
      "Cross-val score:  0.627863655602\n",
      "Accuracy score:  0.622489959839\n",
      "\n",
      "n_estimators = 5\n",
      "Cross-val score:  0.626494225769\n",
      "Accuracy score:  0.650602409639\n",
      "\n",
      "n_estimators = 8\n",
      "Cross-val score:  0.629877078421\n",
      "Accuracy score:  0.656626506024\n",
      "\n",
      "n_estimators = 13\n",
      "Cross-val score:  0.625858939476\n",
      "Accuracy score:  0.632530120482\n",
      "\n",
      "n_estimators = 21\n",
      "Cross-val score:  0.631863595139\n",
      "Accuracy score:  0.66265060241\n",
      "\n",
      "n_estimators = 34\n",
      "Cross-val score:  0.628525606143\n",
      "Accuracy score:  0.66265060241\n",
      "\n",
      "n_estimators = 55\n",
      "Cross-val score:  0.625169901445\n",
      "Accuracy score:  0.656626506024\n",
      "\n",
      "n_estimators = 89\n",
      "Cross-val score:  0.63255263317\n",
      "Accuracy score:  0.658634538153\n",
      "\n",
      "n_estimators = 144\n",
      "Cross-val score:  0.628516597134\n",
      "Accuracy score:  0.660642570281\n",
      "\n"
     ]
    }
   ],
   "source": [
    "# MODEL #3: RANDOM FOREST CLASSIFIER on location only (tried different Fibonacci n_estimator amounts)\n",
    "# Loop through different n_estimators\n",
    "\n",
    "y = dfjobs['high_low']\n",
    "X = pd.get_dummies(dfjobs['location'])\n",
    "\n",
    "X_train, X_test, y_train, y_test = train_test_split(X,y, test_size=.25)\n",
    "\n",
    "for fib in [1,2,3,5,8,13,21,34,55,89,144]:\n",
    "    rfc = RandomForestClassifier(n_estimators=fib, n_jobs=-1)\n",
    "    rfc.fit(X_train,y_train)\n",
    "    scores = cross_val_score(rfc,X_train,y_train,cv=10)\n",
    "    print 'n_estimators =',fib\n",
    "    print 'Cross-val score: ',np.mean(scores)\n",
    "\n",
    "    rfc_pr = rfc.predict(X_test)\n",
    "    score = accuracy_score(y_test, rfc_pr)\n",
    "    print 'Accuracy score: ',score    \n",
    "    print ''"
   ]
  },
  {
   "cell_type": "code",
   "execution_count": 5,
   "metadata": {
    "collapsed": false
   },
   "outputs": [],
   "source": [
    "# Adding features to see if \"scientist\" or \"analyst\" had effect on predicting salary.\n",
    "\n",
    "dfjobs['scientist'] = [1 if 'scientist' in i else 1 if 'Scientist' in i else 0 for i in dfjobs['job']]\n",
    "dfjobs['analyst'] = [1 if 'analyst' in j else 1 if 'Analyst' in j else 0 for j in dfjobs['job']]"
   ]
  },
  {
   "cell_type": "code",
   "execution_count": 17,
   "metadata": {
    "collapsed": false,
    "scrolled": true
   },
   "outputs": [
    {
     "name": "stdout",
     "output_type": "stream",
     "text": [
      "Cross-val score:  0.62146440371\n"
     ]
    }
   ],
   "source": [
    "# MODEL #4: RANDOM FOREST CLASSIFIER on location plus \"scientist\" and \"analyst\" as key word variables.\n",
    "# Ran RFC again after adding 'scientist' and 'analyst' as separate variables to test.\n",
    "y = dfjobs['high_low']\n",
    "dummies = pd.get_dummies(dfjobs[['location']],drop_first=True)\n",
    "dfjobs = dfjobs.merge(dummies,left_index=True, right_index=True,how='outer')\n",
    "X = dfjobs.drop(['location','company','job','salary','salval','high_low','quart'], axis=1)\n",
    "              \n",
    "X_train, X_test, y_train, y_test = train_test_split(X,y, test_size=.20)\n",
    "\n",
    "rfc = RandomForestClassifier(n_estimators=100, n_jobs=-1)\n",
    "rfc.fit(X_train,y_train)\n",
    "\n",
    "scores = cross_val_score(rfc,X_train,y_train,cv=10)\n",
    "print 'Cross-val score: ',np.mean(scores)"
   ]
  },
  {
   "cell_type": "code",
   "execution_count": 18,
   "metadata": {
    "collapsed": false
   },
   "outputs": [
    {
     "name": "stdout",
     "output_type": "stream",
     "text": [
      "Accuracy score:  0.651629072682\n"
     ]
    }
   ],
   "source": [
    "rfc_pr = rfc.predict(X_test)\n",
    "score = accuracy_score(y_test, rfc_pr)\n",
    "print 'Accuracy score: ',score"
   ]
  },
  {
   "cell_type": "code",
   "execution_count": 17,
   "metadata": {
    "collapsed": false
   },
   "outputs": [
    {
     "data": {
      "text/html": [
       "<div>\n",
       "<table border=\"1\" class=\"dataframe\">\n",
       "  <thead>\n",
       "    <tr style=\"text-align: right;\">\n",
       "      <th></th>\n",
       "      <th>importance</th>\n",
       "    </tr>\n",
       "  </thead>\n",
       "  <tbody>\n",
       "    <tr>\n",
       "      <th>analyst</th>\n",
       "      <td>0.068542</td>\n",
       "    </tr>\n",
       "    <tr>\n",
       "      <th>scientist</th>\n",
       "      <td>0.038381</td>\n",
       "    </tr>\n",
       "    <tr>\n",
       "      <th>location_Baltimore, MD</th>\n",
       "      <td>0.037121</td>\n",
       "    </tr>\n",
       "    <tr>\n",
       "      <th>location_Boston, MA</th>\n",
       "      <td>0.031897</td>\n",
       "    </tr>\n",
       "    <tr>\n",
       "      <th>location_San Francisco, CA</th>\n",
       "      <td>0.022559</td>\n",
       "    </tr>\n",
       "  </tbody>\n",
       "</table>\n",
       "</div>"
      ],
      "text/plain": [
       "                            importance\n",
       "analyst                       0.068542\n",
       "scientist                     0.038381\n",
       "location_Baltimore, MD        0.037121\n",
       "location_Boston, MA           0.031897\n",
       "location_San Francisco, CA    0.022559"
      ]
     },
     "execution_count": 17,
     "metadata": {},
     "output_type": "execute_result"
    }
   ],
   "source": [
    "fe_im = pd.DataFrame(rfc.feature_importances_,\n",
    "                                  index=X.columns,\n",
    "                                  columns=['importance'])\n",
    "fe_im.sort_values(by='importance', ascending=False).head()"
   ]
  },
  {
   "cell_type": "code",
   "execution_count": 19,
   "metadata": {
    "collapsed": false
   },
   "outputs": [
    {
     "name": "stdout",
     "output_type": "stream",
     "text": [
      "Cross-val score:  0.652587403885\n"
     ]
    }
   ],
   "source": [
    "# MODEL #5: RANDOM FOREST CLASSIFIER on location, company and job plus \"scientist\" and \"analyst\" as key word variables.\n",
    "# Added dummy variables on company and job title as well.\n",
    "y = dfjobs['high_low']\n",
    "dummies = pd.get_dummies(dfjobs[['location','company','job']],drop_first=True)\n",
    "dfjobs = dfjobs.merge(dummies,left_index=True, right_index=True,how='outer')\n",
    "X = dfjobs.drop(['location','company','job','salary','salval','high_low','quart'], axis=1)\n",
    "       \n",
    "X_train, X_test, y_train, y_test = train_test_split(X,y, test_size=.25)\n",
    "\n",
    "rfc = RandomForestClassifier(n_estimators=100, n_jobs=-1)\n",
    "rfc.fit(X_train,y_train)\n",
    "\n",
    "scores = cross_val_score(rfc,X_train,y_train,cv=10)\n",
    "print 'Cross-val score: ',np.mean(scores)"
   ]
  },
  {
   "cell_type": "code",
   "execution_count": 20,
   "metadata": {
    "collapsed": false
   },
   "outputs": [
    {
     "name": "stdout",
     "output_type": "stream",
     "text": [
      "Accuracy score:  0.660642570281\n"
     ]
    }
   ],
   "source": [
    "rfc_pr = rfc.predict(X_test)\n",
    "score = accuracy_score(y_test, rfc_pr)\n",
    "print 'Accuracy score: ',score"
   ]
  },
  {
   "cell_type": "code",
   "execution_count": 21,
   "metadata": {
    "collapsed": false
   },
   "outputs": [
    {
     "data": {
      "text/html": [
       "<div>\n",
       "<table border=\"1\" class=\"dataframe\">\n",
       "  <thead>\n",
       "    <tr style=\"text-align: right;\">\n",
       "      <th></th>\n",
       "      <th>importance</th>\n",
       "    </tr>\n",
       "  </thead>\n",
       "  <tbody>\n",
       "    <tr>\n",
       "      <th>analyst</th>\n",
       "      <td>0.018066</td>\n",
       "    </tr>\n",
       "    <tr>\n",
       "      <th>scientist</th>\n",
       "      <td>0.012558</td>\n",
       "    </tr>\n",
       "    <tr>\n",
       "      <th>company_Liberty Mutual</th>\n",
       "      <td>0.008785</td>\n",
       "    </tr>\n",
       "    <tr>\n",
       "      <th>company_Veredus</th>\n",
       "      <td>0.006915</td>\n",
       "    </tr>\n",
       "    <tr>\n",
       "      <th>company_Workbridge Associates</th>\n",
       "      <td>0.005712</td>\n",
       "    </tr>\n",
       "  </tbody>\n",
       "</table>\n",
       "</div>"
      ],
      "text/plain": [
       "                               importance\n",
       "analyst                          0.018066\n",
       "scientist                        0.012558\n",
       "company_Liberty Mutual           0.008785\n",
       "company_Veredus                  0.006915\n",
       "company_Workbridge Associates    0.005712"
      ]
     },
     "execution_count": 21,
     "metadata": {},
     "output_type": "execute_result"
    }
   ],
   "source": [
    "fe_im = pd.DataFrame(rfc.feature_importances_,\n",
    "                                  index=X.columns,\n",
    "                                  columns=['importance'])\n",
    "fe_im.sort_values(by='importance', ascending=False).head()"
   ]
  },
  {
   "cell_type": "code",
   "execution_count": 22,
   "metadata": {
    "collapsed": false
   },
   "outputs": [
    {
     "name": "stdout",
     "output_type": "stream",
     "text": [
      "Cross-val score:  0.451108037234\n"
     ]
    }
   ],
   "source": [
    "# MODEL #6: RANDOM FOREST CLASSIFIER on location, company and job plus \"scientist\" and \"analyst\" vs QUARTILE.\n",
    "# Going to try quartile data instead of high/low\n",
    "y = dfjobs['quart']\n",
    "dummies = pd.get_dummies(dfjobs[['location','company','job']],drop_first=True)\n",
    "dfjobs = dfjobs.merge(dummies,left_index=True, right_index=True,how='outer')\n",
    "X = dfjobs.drop(['location','company','job','salary','salval','high_low','quart'], axis=1)\n",
    "                 \n",
    "X_train, X_test, y_train, y_test = train_test_split(X,y, test_size=.25)\n",
    "\n",
    "rfc = RandomForestClassifier(n_estimators=100, n_jobs=-1)\n",
    "rfc.fit(X_train,y_train)\n",
    "\n",
    "scores = cross_val_score(rfc,X_train,y_train,cv=10)\n",
    "print 'Cross-val score: ',np.mean(scores)"
   ]
  },
  {
   "cell_type": "code",
   "execution_count": 23,
   "metadata": {
    "collapsed": false
   },
   "outputs": [
    {
     "name": "stdout",
     "output_type": "stream",
     "text": [
      "Accuracy score:  0.429718875502\n"
     ]
    }
   ],
   "source": [
    "rfc_pr = rfc.predict(X_test)\n",
    "score = accuracy_score(y_test, rfc_pr)\n",
    "print 'Accuracy score: ',score"
   ]
  },
  {
   "cell_type": "code",
   "execution_count": 24,
   "metadata": {
    "collapsed": false
   },
   "outputs": [
    {
     "data": {
      "text/html": [
       "<div>\n",
       "<table border=\"1\" class=\"dataframe\">\n",
       "  <thead>\n",
       "    <tr style=\"text-align: right;\">\n",
       "      <th></th>\n",
       "      <th>importance</th>\n",
       "    </tr>\n",
       "  </thead>\n",
       "  <tbody>\n",
       "    <tr>\n",
       "      <th>analyst</th>\n",
       "      <td>0.023039</td>\n",
       "    </tr>\n",
       "    <tr>\n",
       "      <th>scientist</th>\n",
       "      <td>0.006546</td>\n",
       "    </tr>\n",
       "    <tr>\n",
       "      <th>job_Data Scientist_x</th>\n",
       "      <td>0.003432</td>\n",
       "    </tr>\n",
       "    <tr>\n",
       "      <th>company_Liberty Mutual_x</th>\n",
       "      <td>0.002825</td>\n",
       "    </tr>\n",
       "    <tr>\n",
       "      <th>job_Data Scientist_y</th>\n",
       "      <td>0.002661</td>\n",
       "    </tr>\n",
       "  </tbody>\n",
       "</table>\n",
       "</div>"
      ],
      "text/plain": [
       "                          importance\n",
       "analyst                     0.023039\n",
       "scientist                   0.006546\n",
       "job_Data Scientist_x        0.003432\n",
       "company_Liberty Mutual_x    0.002825\n",
       "job_Data Scientist_y        0.002661"
      ]
     },
     "execution_count": 24,
     "metadata": {},
     "output_type": "execute_result"
    }
   ],
   "source": [
    "fe_im = pd.DataFrame(rfc.feature_importances_,\n",
    "                                  index=X.columns,\n",
    "                                  columns=['importance'])\n",
    "fe_im.sort_values(by='importance', ascending=False).head()"
   ]
  },
  {
   "cell_type": "code",
   "execution_count": 27,
   "metadata": {
    "collapsed": false
   },
   "outputs": [
    {
     "name": "stdout",
     "output_type": "stream",
     "text": [
      "Cross-val score:  0.756238055025\n"
     ]
    }
   ],
   "source": [
    "# MODEL #7: RANDOM FOREST CLASSIFIER on location, company and job plus \"scientist\" and \"analyst\" vs QUARTILE.\n",
    "# Since 'analyst' and 'scientist' continued to show up as important features, decided to run Count Vectorizer on job\n",
    "# title.\n",
    "\n",
    "y = dfjobs['high_low']\n",
    "X = dfjobs['job']\n",
    "from sklearn.feature_extraction.text import CountVectorizer\n",
    "cv = CountVectorizer(stop_words='english',ngram_range=(1,2))\n",
    "cv.fit(X)\n",
    "XX=pd.DataFrame(cv.transform(X).todense(), columns=cv.get_feature_names())\n",
    "                 \n",
    "X_train, X_test, y_train, y_test = train_test_split(XX,y, test_size=.25)\n",
    "\n",
    "rfc = RandomForestClassifier(n_estimators=100, n_jobs=-1)\n",
    "rfc.fit(X_train,y_train)\n",
    "\n",
    "scores = cross_val_score(rfc,X_train,y_train,cv=10)\n",
    "print 'Cross-val score: ',np.mean(scores)"
   ]
  },
  {
   "cell_type": "code",
   "execution_count": 28,
   "metadata": {
    "collapsed": false
   },
   "outputs": [
    {
     "name": "stdout",
     "output_type": "stream",
     "text": [
      "Accuracy score:  0.738955823293\n"
     ]
    }
   ],
   "source": [
    "rfc_pr = rfc.predict(X_test)\n",
    "score = accuracy_score(y_test, rfc_pr)\n",
    "print 'Accuracy score: ',score"
   ]
  },
  {
   "cell_type": "code",
   "execution_count": 30,
   "metadata": {
    "collapsed": false
   },
   "outputs": [],
   "source": [
    "fe_im = pd.DataFrame(rfc.feature_importances_,\n",
    "                                  index=XX.columns,\n",
    "                                  columns=['importance'])\n",
    "fe_im.sort_values(by='importance', ascending=False).head()\n",
    "\n",
    "meansalvec=[]\n",
    "highlowvec=[]\n",
    "for jobword in XX.columns:\n",
    "    meansalvec.append(np.mean(dfjobs[dfjobs['job'].str.contains(jobword)].salval))\n",
    "    highlowvec.append(np.mean(dfjobs[dfjobs['job'].str.contains(jobword)].high_low))\n",
    "fe_im['mean_salary']=meansalvec\n",
    "fe_im['high_or_low_salary']=highlowvec    "
   ]
  },
  {
   "cell_type": "code",
   "execution_count": 31,
   "metadata": {
    "collapsed": false
   },
   "outputs": [
    {
     "data": {
      "text/html": [
       "<div>\n",
       "<table border=\"1\" class=\"dataframe\">\n",
       "  <thead>\n",
       "    <tr style=\"text-align: right;\">\n",
       "      <th></th>\n",
       "      <th>importance</th>\n",
       "      <th>mean_salary</th>\n",
       "      <th>high_or_low_salary</th>\n",
       "    </tr>\n",
       "  </thead>\n",
       "  <tbody>\n",
       "    <tr>\n",
       "      <th>engineer</th>\n",
       "      <td>0.022962</td>\n",
       "      <td>130000.0</td>\n",
       "      <td>1.00</td>\n",
       "    </tr>\n",
       "    <tr>\n",
       "      <th>specialist</th>\n",
       "      <td>0.020878</td>\n",
       "      <td>NaN</td>\n",
       "      <td>NaN</td>\n",
       "    </tr>\n",
       "    <tr>\n",
       "      <th>senior</th>\n",
       "      <td>0.020780</td>\n",
       "      <td>NaN</td>\n",
       "      <td>NaN</td>\n",
       "    </tr>\n",
       "    <tr>\n",
       "      <th>developer</th>\n",
       "      <td>0.010987</td>\n",
       "      <td>77000.0</td>\n",
       "      <td>0.50</td>\n",
       "    </tr>\n",
       "    <tr>\n",
       "      <th>research</th>\n",
       "      <td>0.010521</td>\n",
       "      <td>NaN</td>\n",
       "      <td>NaN</td>\n",
       "    </tr>\n",
       "    <tr>\n",
       "      <th>architect</th>\n",
       "      <td>0.010085</td>\n",
       "      <td>NaN</td>\n",
       "      <td>NaN</td>\n",
       "    </tr>\n",
       "    <tr>\n",
       "      <th>data scientist</th>\n",
       "      <td>0.009093</td>\n",
       "      <td>NaN</td>\n",
       "      <td>NaN</td>\n",
       "    </tr>\n",
       "    <tr>\n",
       "      <th>data</th>\n",
       "      <td>0.008988</td>\n",
       "      <td>87500.0</td>\n",
       "      <td>0.75</td>\n",
       "    </tr>\n",
       "    <tr>\n",
       "      <th>sr</th>\n",
       "      <td>0.008669</td>\n",
       "      <td>NaN</td>\n",
       "      <td>NaN</td>\n",
       "    </tr>\n",
       "    <tr>\n",
       "      <th>analytics</th>\n",
       "      <td>0.008284</td>\n",
       "      <td>NaN</td>\n",
       "      <td>NaN</td>\n",
       "    </tr>\n",
       "  </tbody>\n",
       "</table>\n",
       "</div>"
      ],
      "text/plain": [
       "                importance  mean_salary  high_or_low_salary\n",
       "engineer          0.022962     130000.0                1.00\n",
       "specialist        0.020878          NaN                 NaN\n",
       "senior            0.020780          NaN                 NaN\n",
       "developer         0.010987      77000.0                0.50\n",
       "research          0.010521          NaN                 NaN\n",
       "architect         0.010085          NaN                 NaN\n",
       "data scientist    0.009093          NaN                 NaN\n",
       "data              0.008988      87500.0                0.75\n",
       "sr                0.008669          NaN                 NaN\n",
       "analytics         0.008284          NaN                 NaN"
      ]
     },
     "execution_count": 31,
     "metadata": {},
     "output_type": "execute_result"
    }
   ],
   "source": [
    "fe_im.sort_values(by='importance', ascending=False).head(10)"
   ]
  },
  {
   "cell_type": "code",
   "execution_count": 32,
   "metadata": {
    "collapsed": false
   },
   "outputs": [
    {
     "data": {
      "image/png": "[encoded data removed]",
      "text/plain": [
       "<matplotlib.figure.Figure at 0x111d72c10>"
      ]
     },
     "metadata": {},
     "output_type": "display_data"
    }
   ],
   "source": [
    "fe_im2=fe_im.iloc[:,0:1]\n",
    "fig, ax = plt.subplots(figsize=(14,6))\n",
    "fe_im2.sort_values(by='importance',ascending=False).head(20).plot(kind='bar', ax=ax, fontsize=8)\n",
    "ax.set_xticklabels(ax.xaxis.get_ticklabels(), fontsize=10, rotation=30)\n",
    "ax.set_title('Top 20 Features (Words in Job Titles) in Random Forest Classifier',fontsize=20)\n",
    "plt.show()"
   ]
  }
 ],
 "metadata": {
  "kernelspec": {
   "display_name": "Python 2",
   "language": "python",
   "name": "python2"
  },
  "language_info": {
   "codemirror_mode": {
    "name": "ipython",
    "version": 2
   },
   "file_extension": ".py",
   "mimetype": "text/x-python",
   "name": "python",
   "nbconvert_exporter": "python",
   "pygments_lexer": "ipython2",
   "version": "2.7.13"
  }
 },
 "nbformat": 4,
 "nbformat_minor": 2
}
